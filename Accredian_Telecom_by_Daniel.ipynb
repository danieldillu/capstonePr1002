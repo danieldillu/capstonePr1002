{
 "cells": [
  {
   "cell_type": "markdown",
   "metadata": {
    "id": "5PdIaGGEvESY"
   },
   "source": [
    "<center><img src=\"https://accredian.com/wp-content/uploads/2023/06/cropped-accredian-ws-logo-e1686627987452.webp\" /></center>\n",
    "\n",
    "---\n",
    "\n",
    "# <center><b>Accredian Telecom<b></center>"
   ]
  },
  {
   "cell_type": "markdown",
   "metadata": {
    "id": "6YNw96SJt7G7"
   },
   "source": [
    "---\n",
    "# **Table of Contents**\n",
    "---\n",
    "\n",
    "1. [**Introduction**](#Section1)<br>\n",
    "2. [**Problem Statement**](#Section2)<br>\n",
    "    2.1 [**Project Details**](#Section21)<br>\n",
    "3. [**Installing & Importing Libraries**](#Section3)<br>\n",
    "  3.1 [**Installing Libraries**](#Section31)<br>\n",
    "  3.2 [**Upgrading Libraries**](#Section32)<br>\n",
    "  3.3 [**Importing Libraries**](#Section33)<br>\n",
    "4. [**Data Acquisition & Description**](#Section4)<br>\n",
    "5. [**Data Pre-Profiling**](#Section5)<br>\n",
    "6. [**Data Pre-Processing**](#Section6)<br>\n",
    "7. [**Data Post-Profiling**](#Section7)<br>\n",
    "8. [**Exploratory Data Analysis**](#Section8)<br>\n",
    "9. [**Summarization**](#Section9)</br>\n",
    "  9.1 [**Conclusion**](#Section91)</br>\n",
    "  9.2 [**Actionable Insights**](#Section91)</br>\n",
    "\n",
    "---"
   ]
  },
  {
   "cell_type": "markdown",
   "metadata": {
    "id": "s4SIqNjWuEGw"
   },
   "source": [
    "---\n",
    "<a name = Section1></a>\n",
    "# **1. Introduction**\n",
    "---"
   ]
  },
  {
   "cell_type": "markdown",
   "metadata": {
    "id": "PWmqZyg9xFBB"
   },
   "source": [
    "**Company Introduction**\n",
    "\n",
    "Our company for this project is AccredianTelecom.\n",
    "\n",
    "- AccredianTelecom, one of the leading telecom players, understands that customizing offerings is very important for its business to stay competitive.\n",
    "- Currently, AccredianTelecom is seeking to leverage behavioural data from more than 60% of the 50 million mobile devices active daily in India\n",
    "- They are doing this to help their clients better understand and interact with their audiences.\n",
    "\n",
    "**Current Scenario**\n",
    "\n",
    "- In this consulting assignment, Accredianians are expected to build a dashboard.\n",
    "- This dashboard will help us to understand a user's demographic characteristics based on their mobile usage, geolocation, and mobile device properties\n",
    "- Doing so will help millions of developers and brand advertisers around the world pursue data-driven marketing efforts.\n",
    "- These efforts are relevant to their users and cater to their preferences."
   ]
  },
  {
   "cell_type": "markdown",
   "metadata": {
    "id": "hUt0_dA2uF64"
   },
   "source": [
    "---\n",
    "<a name = Section2></a>\n",
    "# **2. Problem Statement**\n",
    "---\n",
    "\n",
    "\n",
    "- Fetch the Data onto your Python Notebook and ponder upon the challenges present in the Data."
   ]
  },
  {
   "cell_type": "markdown",
   "metadata": {
    "id": "5ZWUv1H8xHbS"
   },
   "source": [
    "<a name = Section21></a>\n",
    "### **2.1 Project Details**\n",
    "\n",
    "Our Role\n",
    "\n",
    "- To help the customer the consultants are expected to have depth of clarity in the underlying data.\n",
    "- How much effort has been put into cleansing and purifying the data will decide how closely have you looked at the data..\n",
    "- How detailed is the observation stated in the submission report and finally, how well a group presents their consulting journey.\n",
    "- Please remember that this is an analytics consulting firm. Hence, your efforts in terms of finding user behaviour are going to directly impact the company's offerings.\n",
    "- Do help the company understand what is the right way forward and suggest actionable insights from marketing and product terms."
   ]
  },
  {
   "cell_type": "markdown",
   "metadata": {
    "id": "PlFMmtoUuN6w"
   },
   "source": [
    "---\n",
    "<a id = Section3></a>\n",
    "# **3. Installing & Importing Libraries**\n",
    "---\n",
    "\n",
    "This section is emphasised on installing and importing the necessary libraries that will be required."
   ]
  },
  {
   "cell_type": "markdown",
   "metadata": {
    "id": "PecZdlbAuSGZ"
   },
   "source": [
    "<a name = Section31></a>\n",
    "### **3.1 Installing Libraries**"
   ]
  },
  {
   "cell_type": "code",
   "execution_count": 1,
   "metadata": {
    "colab": {
     "base_uri": "https://localhost:8080/"
    },
    "id": "JtvmcVnFuOlz",
    "outputId": "8f2baf7c-d34f-49a3-e9e3-b648eea82647"
   },
   "outputs": [
    {
     "name": "stdout",
     "output_type": "stream",
     "text": [
      "Completed!!\n"
     ]
    }
   ],
   "source": [
    "!pip install -q mysql-connector-python\n",
    "# Library to connect to mysql database and fire queries\n",
    "!pip install -q ydata-profiling\n",
    "# Library to generate basic statistics about data\n",
    "\n",
    "# To install more libraries insert your code here..\n",
    "\n",
    "print(\"Completed!!\")"
   ]
  },
  {
   "cell_type": "code",
   "execution_count": 2,
   "metadata": {},
   "outputs": [
    {
     "name": "stdout",
     "output_type": "stream",
     "text": [
      "Defaulting to user installation because normal site-packages is not writeable\n",
      "Requirement already satisfied: geopy in c:\\users\\lenovo\\appdata\\roaming\\python\\python310\\site-packages (2.3.0)\n",
      "Requirement already satisfied: geographiclib<3,>=1.52 in c:\\users\\lenovo\\appdata\\roaming\\python\\python310\\site-packages (from geopy) (2.0)\n",
      "Completed!\n"
     ]
    }
   ],
   "source": [
    "!pip install geopy\n",
    "print(\"Completed!\")"
   ]
  },
  {
   "cell_type": "markdown",
   "metadata": {
    "id": "2USwzvmBuYIw"
   },
   "source": [
    "<a name = Section32></a>\n",
    "### **3.2 Upgrading Libraries**\n",
    "\n",
    "- **After upgrading** the libraries, you need to **restart the runtime** to make the libraries in sync.\n",
    "\n",
    "- Ensure not to execute the cell under Installing Libraries and Upgrading Libraries again after restarting the runtime."
   ]
  },
  {
   "cell_type": "code",
   "execution_count": 3,
   "metadata": {
    "id": "VOguVNwIuY8z"
   },
   "outputs": [
    {
     "name": "stdout",
     "output_type": "stream",
     "text": [
      "Completed!!\n"
     ]
    }
   ],
   "source": [
    "!pip install -q --upgrade ydata-profiling\n",
    "# Upgrading pandas profiling to the latest version\n",
    "\n",
    "print(\"Completed!!\")"
   ]
  },
  {
   "cell_type": "markdown",
   "metadata": {
    "id": "RQkrS5osvheI"
   },
   "source": [
    "<a name = Section33></a>\n",
    "### **3.3 Importing Libraries**\n",
    "- Installing the necessary libraries, packages - \n",
    "    - Pandas, \n",
    "    - Numpy, \n",
    "    - Matplotlib, \n",
    "    - Seaborn, \n",
    "    - scipy, \n",
    "    - mysql_connector, etc."
   ]
  },
  {
   "cell_type": "code",
   "execution_count": 4,
   "metadata": {
    "colab": {
     "base_uri": "https://localhost:8080/"
    },
    "id": "4reJmvffviG-",
    "outputId": "7f153d76-ccb3-4d9c-dc66-59432305036a"
   },
   "outputs": [
    {
     "name": "stdout",
     "output_type": "stream",
     "text": [
      "Completed!\n"
     ]
    }
   ],
   "source": [
    "import mysql.connector as sql\n",
    "# Importing mysql connector bridge\n",
    "\n",
    "import pandas as pd\n",
    "# Importing package pandas (For Panel Data Analysis)\n",
    "\n",
    "import numpy as np\n",
    "# Importing package numpys (For Numerical Python)\n",
    "\n",
    "import matplotlib.pyplot as plt\n",
    "# Importing pyplot interface to use matplotlib\n",
    "\n",
    "import seaborn as sns\n",
    " # Importing seaborn library for interactive visualization\n",
    "\n",
    "%matplotlib inline\n",
    "\n",
    "import scipy as sp\n",
    "# Importing library for scientific calculations\n",
    "\n",
    "print(\"Completed!\")"
   ]
  },
  {
   "cell_type": "code",
   "execution_count": 5,
   "metadata": {},
   "outputs": [
    {
     "name": "stdout",
     "output_type": "stream",
     "text": [
      "Completed!\n"
     ]
    }
   ],
   "source": [
    "from geopy.geocoders import Nominatim\n",
    "print(\"Completed!\")"
   ]
  },
  {
   "cell_type": "code",
   "execution_count": 6,
   "metadata": {},
   "outputs": [
    {
     "name": "stdout",
     "output_type": "stream",
     "text": [
      "Completed!\n"
     ]
    }
   ],
   "source": [
    "from ydata_profiling import ProfileReport\n",
    "# Import Pandas Profiling (To generate Univariate Analysis)\n",
    "print(\"Completed!\")"
   ]
  },
  {
   "cell_type": "markdown",
   "metadata": {
    "id": "9lxyr6n3vmem"
   },
   "source": [
    "---\n",
    "<a name = Section4></a>\n",
    "# **4. Data Acquisition & Description**\n",
    "---\n",
    "- In this assignment, we are going to study the demographics of a user (gender and age) based on their app download and usage behaviours.\n",
    "- The Data is collected from mobile apps that use Inside Telecom services.\n",
    "- Full recognition and consent from an individual user of those apps have been obtained, and appropriate anonymization has been performed to protect privacy.\n",
    "- Due to confidentiality, we won't provide details on how the gender and age data were obtained.\n",
    "- Please treat them as accurate ground truth for prediction.\n",
    "- The data schema can be represented in the following table:\n",
    "\n",
    "    - gender_age_train - Devices and their respective user gender, age and age_group\n",
    "    - phone_brand_device_model - device ids, brand, and models phone_brand: note that few brands are in Chinese"
   ]
  },
  {
   "cell_type": "markdown",
   "metadata": {},
   "source": [
    "|Id|Brand Name|English Mapping|\n",
    "|:--|:--|:--|\n",
    "|01|华为|Huawei|\n",
    "|02|小米|Xiaomi|\n",
    "|03|三星|Samsung|\n",
    "|04|vivo|vivo|\n",
    "|05|OPPO|OPPO|\n",
    "|06|魅族|Meizu|\n",
    "|07|酷派|Coolpad|\n",
    "|08|乐视|LeEco|\n",
    "|09|联想|Lenovo|\n",
    "|10|HTC|HTC|"
   ]
  },
  {
   "cell_type": "markdown",
   "metadata": {},
   "source": [
    "- Events_data:\n",
    "    \n",
    "    - When a user uses mobile on an Accredian Telecom network, the event gets logged in this data.\n",
    "    - Each event has an event id, location (lat/long), and the event corresponds to the frequency of mobile usage. timestamp: when the user is using the mobile."
   ]
  },
  {
   "cell_type": "code",
   "execution_count": 7,
   "metadata": {
    "colab": {
     "base_uri": "https://localhost:8080/"
    },
    "id": "XFao4taw6ZhR",
    "outputId": "06317ea4-7a47-431a-e9b5-889e30913c74"
   },
   "outputs": [
    {
     "name": "stdout",
     "output_type": "stream",
     "text": [
      "DB Connection successful!\n"
     ]
    }
   ],
   "source": [
    "connectionObj = sql.connect(host=\"148.72.246.142\", database = \"Capstone1\", user = \"student\", password = \"student\")\n",
    "# To Create Connection\n",
    "print(\"DB Connection successful!\")"
   ]
  },
  {
   "cell_type": "code",
   "execution_count": 8,
   "metadata": {
    "colab": {
     "base_uri": "https://localhost:8080/",
     "height": 206
    },
    "id": "60-F2e-e_YiC",
    "outputId": "5b68c2d8-ef7c-4668-a6e2-adf51d1f21f1",
    "scrolled": false
   },
   "outputs": [
    {
     "name": "stderr",
     "output_type": "stream",
     "text": [
      "C:\\Users\\Lenovo\\AppData\\Local\\Temp\\ipykernel_1468\\1818854316.py:2: UserWarning: pandas only supports SQLAlchemy connectable (engine/connection) or database string URI or sqlite3 DBAPI2 connection. Other DBAPI2 objects are not tested. Please consider using SQLAlchemy.\n",
      "  gender_age_train_df=pd.read_sql_query(\"SELECT * FROM gender_age_train \",connectionObj)\n"
     ]
    },
    {
     "name": "stdout",
     "output_type": "stream",
     "text": [
      "Gender Age Train Data Set Loading completed!\n",
      "_____________________________________________________________________\n",
      "Dimensions of Gender Age Train Data is  (74645, 4)\n"
     ]
    },
    {
     "name": "stderr",
     "output_type": "stream",
     "text": [
      "C:\\Users\\Lenovo\\AppData\\Local\\Temp\\ipykernel_1468\\1818854316.py:8: UserWarning: pandas only supports SQLAlchemy connectable (engine/connection) or database string URI or sqlite3 DBAPI2 connection. Other DBAPI2 objects are not tested. Please consider using SQLAlchemy.\n",
      "  phone_brand_device_df=pd.read_sql_query(\"SELECT * FROM phone_brand_device_model\",connectionObj)\n"
     ]
    },
    {
     "name": "stdout",
     "output_type": "stream",
     "text": [
      "Phone Brand Device Model Data Set loading is completed!!\n",
      "___________________________________________________________________________\n",
      "Dimensions Phone Brand and Device Model Data is  (87726, 3)\n"
     ]
    }
   ],
   "source": [
    "# csr1_gen = connectionObj.cursor()\n",
    "gender_age_train_df=pd.read_sql_query(\"SELECT * FROM gender_age_train \",connectionObj)\n",
    "print(\"Gender Age Train Data Set Loading completed!\")\n",
    "print(\"_____________________________________________________________________\")\n",
    "print(\"Dimensions of Gender Age Train Data is \",gender_age_train_df.shape)\n",
    "\n",
    "# csr2_phon = connectionObj.cursor()\n",
    "phone_brand_device_df=pd.read_sql_query(\"SELECT * FROM phone_brand_device_model\",connectionObj)\n",
    "print(\"Phone Brand Device Model Data Set loading is completed!!\")\n",
    "print(\"___________________________________________________________________________\")\n",
    "print(\"Dimensions Phone Brand and Device Model Data is \",phone_brand_device_df.shape)\n"
   ]
  },
  {
   "cell_type": "code",
   "execution_count": 9,
   "metadata": {},
   "outputs": [
    {
     "data": {
      "text/html": [
       "<div>\n",
       "<style scoped>\n",
       "    .dataframe tbody tr th:only-of-type {\n",
       "        vertical-align: middle;\n",
       "    }\n",
       "\n",
       "    .dataframe tbody tr th {\n",
       "        vertical-align: top;\n",
       "    }\n",
       "\n",
       "    .dataframe thead th {\n",
       "        text-align: right;\n",
       "    }\n",
       "</style>\n",
       "<table border=\"1\" class=\"dataframe\">\n",
       "  <thead>\n",
       "    <tr style=\"text-align: right;\">\n",
       "      <th></th>\n",
       "      <th>device_id</th>\n",
       "      <th>gender</th>\n",
       "      <th>age</th>\n",
       "      <th>group</th>\n",
       "    </tr>\n",
       "  </thead>\n",
       "  <tbody>\n",
       "    <tr>\n",
       "      <th>0</th>\n",
       "      <td>-8076087639492063270</td>\n",
       "      <td>M</td>\n",
       "      <td>35</td>\n",
       "      <td>M32-38</td>\n",
       "    </tr>\n",
       "    <tr>\n",
       "      <th>1</th>\n",
       "      <td>-2897161552818060146</td>\n",
       "      <td>M</td>\n",
       "      <td>35</td>\n",
       "      <td>M32-38</td>\n",
       "    </tr>\n",
       "    <tr>\n",
       "      <th>2</th>\n",
       "      <td>-8260683887967679142</td>\n",
       "      <td>M</td>\n",
       "      <td>35</td>\n",
       "      <td>M32-38</td>\n",
       "    </tr>\n",
       "    <tr>\n",
       "      <th>3</th>\n",
       "      <td>-4938849341048082022</td>\n",
       "      <td>M</td>\n",
       "      <td>30</td>\n",
       "      <td>M29-31</td>\n",
       "    </tr>\n",
       "    <tr>\n",
       "      <th>4</th>\n",
       "      <td>245133531816851882</td>\n",
       "      <td>M</td>\n",
       "      <td>30</td>\n",
       "      <td>M29-31</td>\n",
       "    </tr>\n",
       "  </tbody>\n",
       "</table>\n",
       "</div>"
      ],
      "text/plain": [
       "             device_id gender  age   group\n",
       "0 -8076087639492063270      M   35  M32-38\n",
       "1 -2897161552818060146      M   35  M32-38\n",
       "2 -8260683887967679142      M   35  M32-38\n",
       "3 -4938849341048082022      M   30  M29-31\n",
       "4   245133531816851882      M   30  M29-31"
      ]
     },
     "execution_count": 9,
     "metadata": {},
     "output_type": "execute_result"
    }
   ],
   "source": [
    "gender_age_train_df.head()"
   ]
  },
  {
   "cell_type": "code",
   "execution_count": 10,
   "metadata": {},
   "outputs": [
    {
     "data": {
      "text/html": [
       "<div>\n",
       "<style scoped>\n",
       "    .dataframe tbody tr th:only-of-type {\n",
       "        vertical-align: middle;\n",
       "    }\n",
       "\n",
       "    .dataframe tbody tr th {\n",
       "        vertical-align: top;\n",
       "    }\n",
       "\n",
       "    .dataframe thead th {\n",
       "        text-align: right;\n",
       "    }\n",
       "</style>\n",
       "<table border=\"1\" class=\"dataframe\">\n",
       "  <thead>\n",
       "    <tr style=\"text-align: right;\">\n",
       "      <th></th>\n",
       "      <th>device_id</th>\n",
       "      <th>phone_brand</th>\n",
       "      <th>device_model</th>\n",
       "    </tr>\n",
       "  </thead>\n",
       "  <tbody>\n",
       "    <tr>\n",
       "      <th>0</th>\n",
       "      <td>1877775838486905855</td>\n",
       "      <td>vivo</td>\n",
       "      <td>Y13</td>\n",
       "    </tr>\n",
       "    <tr>\n",
       "      <th>1</th>\n",
       "      <td>-3766087376657242966</td>\n",
       "      <td>小米</td>\n",
       "      <td>V183</td>\n",
       "    </tr>\n",
       "    <tr>\n",
       "      <th>2</th>\n",
       "      <td>-6238937574958215831</td>\n",
       "      <td>OPPO</td>\n",
       "      <td>R7s</td>\n",
       "    </tr>\n",
       "    <tr>\n",
       "      <th>3</th>\n",
       "      <td>8973197758510677470</td>\n",
       "      <td>三星</td>\n",
       "      <td>A368t</td>\n",
       "    </tr>\n",
       "    <tr>\n",
       "      <th>4</th>\n",
       "      <td>-2015528097870762664</td>\n",
       "      <td>小米</td>\n",
       "      <td>红米Note2</td>\n",
       "    </tr>\n",
       "  </tbody>\n",
       "</table>\n",
       "</div>"
      ],
      "text/plain": [
       "             device_id phone_brand device_model\n",
       "0  1877775838486905855        vivo          Y13\n",
       "1 -3766087376657242966          小米         V183\n",
       "2 -6238937574958215831        OPPO          R7s\n",
       "3  8973197758510677470          三星        A368t\n",
       "4 -2015528097870762664          小米      红米Note2"
      ]
     },
     "execution_count": 10,
     "metadata": {},
     "output_type": "execute_result"
    }
   ],
   "source": [
    "phone_brand_device_df.head()"
   ]
  },
  {
   "cell_type": "code",
   "execution_count": 11,
   "metadata": {
    "colab": {
     "base_uri": "https://localhost:8080/"
    },
    "id": "_EUFbRuH9tTU",
    "outputId": "8f83cfa5-fced-401b-fe4d-96382c2088ea"
   },
   "outputs": [],
   "source": [
    "# from google.colab import drive\n",
    "# drive.mount('/content/drive')"
   ]
  },
  {
   "cell_type": "markdown",
   "metadata": {},
   "source": [
    "Data Set Path for Event file:\n",
    "\n",
    "/content/drive/MyDrive/Colab Notebooks/Data Set/events_data.csv"
   ]
  },
  {
   "cell_type": "code",
   "execution_count": 14,
   "metadata": {
    "id": "-_tUwz1a-5wY"
   },
   "outputs": [
    {
     "name": "stdout",
     "output_type": "stream",
     "text": [
      "Events Data Set loading is completed!!!\n",
      "_____________________________________________________________\n",
      "Dimensions of Events Data is  (3252950, 7)\n"
     ]
    }
   ],
   "source": [
    "event_df = pd.read_csv(\"../dataset/events_data.csv\")\n",
    "print(\"Events Data Set loading is completed!!!\")\n",
    "print(\"_____________________________________________________________\")\n",
    "print(\"Dimensions of Events Data is \", event_df.shape)"
   ]
  },
  {
   "cell_type": "code",
   "execution_count": 15,
   "metadata": {
    "colab": {
     "base_uri": "https://localhost:8080/",
     "height": 206
    },
    "id": "vBx9g4qt_rP2",
    "outputId": "58f26ba1-e499-4f6a-b4b2-a4c0b8e0eedc"
   },
   "outputs": [
    {
     "data": {
      "text/html": [
       "<div>\n",
       "<style scoped>\n",
       "    .dataframe tbody tr th:only-of-type {\n",
       "        vertical-align: middle;\n",
       "    }\n",
       "\n",
       "    .dataframe tbody tr th {\n",
       "        vertical-align: top;\n",
       "    }\n",
       "\n",
       "    .dataframe thead th {\n",
       "        text-align: right;\n",
       "    }\n",
       "</style>\n",
       "<table border=\"1\" class=\"dataframe\">\n",
       "  <thead>\n",
       "    <tr style=\"text-align: right;\">\n",
       "      <th></th>\n",
       "      <th>event_id</th>\n",
       "      <th>device_id</th>\n",
       "      <th>timestamp</th>\n",
       "      <th>longitude</th>\n",
       "      <th>latitude</th>\n",
       "      <th>city</th>\n",
       "      <th>state</th>\n",
       "    </tr>\n",
       "  </thead>\n",
       "  <tbody>\n",
       "    <tr>\n",
       "      <th>0</th>\n",
       "      <td>2765368</td>\n",
       "      <td>2.973348e+18</td>\n",
       "      <td>2016-05-07 22:52:05</td>\n",
       "      <td>77.225676</td>\n",
       "      <td>28.730140</td>\n",
       "      <td>Delhi</td>\n",
       "      <td>Delhi</td>\n",
       "    </tr>\n",
       "    <tr>\n",
       "      <th>1</th>\n",
       "      <td>2955066</td>\n",
       "      <td>4.734221e+18</td>\n",
       "      <td>2016-05-01 20:44:16</td>\n",
       "      <td>88.388361</td>\n",
       "      <td>22.660325</td>\n",
       "      <td>Calcutta</td>\n",
       "      <td>WestBengal</td>\n",
       "    </tr>\n",
       "    <tr>\n",
       "      <th>2</th>\n",
       "      <td>605968</td>\n",
       "      <td>-3.264500e+18</td>\n",
       "      <td>2016-05-02 14:23:04</td>\n",
       "      <td>77.256809</td>\n",
       "      <td>28.757906</td>\n",
       "      <td>Delhi</td>\n",
       "      <td>Delhi</td>\n",
       "    </tr>\n",
       "    <tr>\n",
       "      <th>3</th>\n",
       "      <td>448114</td>\n",
       "      <td>5.731369e+18</td>\n",
       "      <td>2016-05-03 13:21:16</td>\n",
       "      <td>80.343613</td>\n",
       "      <td>13.153332</td>\n",
       "      <td>Chennai</td>\n",
       "      <td>TamilNadu</td>\n",
       "    </tr>\n",
       "    <tr>\n",
       "      <th>4</th>\n",
       "      <td>665740</td>\n",
       "      <td>3.388880e+17</td>\n",
       "      <td>2016-05-06 03:51:05</td>\n",
       "      <td>85.997745</td>\n",
       "      <td>23.842609</td>\n",
       "      <td>Bokaro</td>\n",
       "      <td>Jharkhand</td>\n",
       "    </tr>\n",
       "  </tbody>\n",
       "</table>\n",
       "</div>"
      ],
      "text/plain": [
       "   event_id     device_id            timestamp  longitude   latitude  \\\n",
       "0   2765368  2.973348e+18  2016-05-07 22:52:05  77.225676  28.730140   \n",
       "1   2955066  4.734221e+18  2016-05-01 20:44:16  88.388361  22.660325   \n",
       "2    605968 -3.264500e+18  2016-05-02 14:23:04  77.256809  28.757906   \n",
       "3    448114  5.731369e+18  2016-05-03 13:21:16  80.343613  13.153332   \n",
       "4    665740  3.388880e+17  2016-05-06 03:51:05  85.997745  23.842609   \n",
       "\n",
       "       city       state  \n",
       "0     Delhi       Delhi  \n",
       "1  Calcutta  WestBengal  \n",
       "2     Delhi       Delhi  \n",
       "3   Chennai   TamilNadu  \n",
       "4    Bokaro   Jharkhand  "
      ]
     },
     "execution_count": 15,
     "metadata": {},
     "output_type": "execute_result"
    }
   ],
   "source": [
    "event_df.head()"
   ]
  },
  {
   "cell_type": "code",
   "execution_count": 16,
   "metadata": {
    "colab": {
     "base_uri": "https://localhost:8080/"
    },
    "id": "unFuGBv-ARbQ",
    "outputId": "ab824de0-3562-4545-ab24-49b4f38e0d03"
   },
   "outputs": [
    {
     "name": "stdout",
     "output_type": "stream",
     "text": [
      "Gender age train -> (74645, 4)\n",
      "Phone Brand Device Model -> (87726, 3)\n",
      "Event -> (3252950, 7)\n"
     ]
    }
   ],
   "source": [
    "print(\"Gender age train ->\",gender_age_train_df.shape)\n",
    "print(\"Phone Brand Device Model ->\",phone_brand_device_df.shape)\n",
    "print(\"Event ->\",event_df.shape)\n"
   ]
  },
  {
   "cell_type": "markdown",
   "metadata": {
    "id": "KqdTj4LYvp-h"
   },
   "source": [
    "<a name = Section41></a>\n",
    "### **4.1 Data Description**\n"
   ]
  },
  {
   "cell_type": "markdown",
   "metadata": {
    "id": "KkwJLALzAf3e"
   },
   "source": [
    "#### **gender_age_train**"
   ]
  },
  {
   "cell_type": "code",
   "execution_count": 17,
   "metadata": {
    "colab": {
     "base_uri": "https://localhost:8080/",
     "height": 300
    },
    "id": "HQV3FDePvrH1",
    "outputId": "8e48815f-2825-4e9e-a849-56a320b5e3e9"
   },
   "outputs": [
    {
     "data": {
      "text/html": [
       "<div>\n",
       "<style scoped>\n",
       "    .dataframe tbody tr th:only-of-type {\n",
       "        vertical-align: middle;\n",
       "    }\n",
       "\n",
       "    .dataframe tbody tr th {\n",
       "        vertical-align: top;\n",
       "    }\n",
       "\n",
       "    .dataframe thead th {\n",
       "        text-align: right;\n",
       "    }\n",
       "</style>\n",
       "<table border=\"1\" class=\"dataframe\">\n",
       "  <thead>\n",
       "    <tr style=\"text-align: right;\">\n",
       "      <th></th>\n",
       "      <th>device_id</th>\n",
       "      <th>age</th>\n",
       "    </tr>\n",
       "  </thead>\n",
       "  <tbody>\n",
       "    <tr>\n",
       "      <th>count</th>\n",
       "      <td>7.464500e+04</td>\n",
       "      <td>74645.000000</td>\n",
       "    </tr>\n",
       "    <tr>\n",
       "      <th>mean</th>\n",
       "      <td>-7.491354e+14</td>\n",
       "      <td>31.410342</td>\n",
       "    </tr>\n",
       "    <tr>\n",
       "      <th>std</th>\n",
       "      <td>5.327150e+18</td>\n",
       "      <td>9.868735</td>\n",
       "    </tr>\n",
       "    <tr>\n",
       "      <th>min</th>\n",
       "      <td>-9.223067e+18</td>\n",
       "      <td>1.000000</td>\n",
       "    </tr>\n",
       "    <tr>\n",
       "      <th>25%</th>\n",
       "      <td>-4.617367e+18</td>\n",
       "      <td>25.000000</td>\n",
       "    </tr>\n",
       "    <tr>\n",
       "      <th>50%</th>\n",
       "      <td>-1.841362e+16</td>\n",
       "      <td>29.000000</td>\n",
       "    </tr>\n",
       "    <tr>\n",
       "      <th>75%</th>\n",
       "      <td>4.636656e+18</td>\n",
       "      <td>36.000000</td>\n",
       "    </tr>\n",
       "    <tr>\n",
       "      <th>max</th>\n",
       "      <td>9.222849e+18</td>\n",
       "      <td>96.000000</td>\n",
       "    </tr>\n",
       "  </tbody>\n",
       "</table>\n",
       "</div>"
      ],
      "text/plain": [
       "          device_id           age\n",
       "count  7.464500e+04  74645.000000\n",
       "mean  -7.491354e+14     31.410342\n",
       "std    5.327150e+18      9.868735\n",
       "min   -9.223067e+18      1.000000\n",
       "25%   -4.617367e+18     25.000000\n",
       "50%   -1.841362e+16     29.000000\n",
       "75%    4.636656e+18     36.000000\n",
       "max    9.222849e+18     96.000000"
      ]
     },
     "execution_count": 17,
     "metadata": {},
     "output_type": "execute_result"
    }
   ],
   "source": [
    "gender_age_train_df.describe()"
   ]
  },
  {
   "cell_type": "markdown",
   "metadata": {
    "id": "k2_1xeEbA1Zg"
   },
   "source": [
    "#### **phone_brand_device_model**"
   ]
  },
  {
   "cell_type": "code",
   "execution_count": 18,
   "metadata": {
    "colab": {
     "base_uri": "https://localhost:8080/",
     "height": 300
    },
    "id": "DNddvYJEA_Pn",
    "outputId": "b2db3ee8-7a90-485d-e48d-175735fd6f0a"
   },
   "outputs": [
    {
     "data": {
      "text/html": [
       "<div>\n",
       "<style scoped>\n",
       "    .dataframe tbody tr th:only-of-type {\n",
       "        vertical-align: middle;\n",
       "    }\n",
       "\n",
       "    .dataframe tbody tr th {\n",
       "        vertical-align: top;\n",
       "    }\n",
       "\n",
       "    .dataframe thead th {\n",
       "        text-align: right;\n",
       "    }\n",
       "</style>\n",
       "<table border=\"1\" class=\"dataframe\">\n",
       "  <thead>\n",
       "    <tr style=\"text-align: right;\">\n",
       "      <th></th>\n",
       "      <th>device_id</th>\n",
       "    </tr>\n",
       "  </thead>\n",
       "  <tbody>\n",
       "    <tr>\n",
       "      <th>count</th>\n",
       "      <td>8.772600e+04</td>\n",
       "    </tr>\n",
       "    <tr>\n",
       "      <th>mean</th>\n",
       "      <td>-5.212557e+15</td>\n",
       "    </tr>\n",
       "    <tr>\n",
       "      <th>std</th>\n",
       "      <td>5.330157e+18</td>\n",
       "    </tr>\n",
       "    <tr>\n",
       "      <th>min</th>\n",
       "      <td>-9.223322e+18</td>\n",
       "    </tr>\n",
       "    <tr>\n",
       "      <th>25%</th>\n",
       "      <td>-4.623331e+18</td>\n",
       "    </tr>\n",
       "    <tr>\n",
       "      <th>50%</th>\n",
       "      <td>-3.109802e+16</td>\n",
       "    </tr>\n",
       "    <tr>\n",
       "      <th>75%</th>\n",
       "      <td>4.635194e+18</td>\n",
       "    </tr>\n",
       "    <tr>\n",
       "      <th>max</th>\n",
       "      <td>9.222849e+18</td>\n",
       "    </tr>\n",
       "  </tbody>\n",
       "</table>\n",
       "</div>"
      ],
      "text/plain": [
       "          device_id\n",
       "count  8.772600e+04\n",
       "mean  -5.212557e+15\n",
       "std    5.330157e+18\n",
       "min   -9.223322e+18\n",
       "25%   -4.623331e+18\n",
       "50%   -3.109802e+16\n",
       "75%    4.635194e+18\n",
       "max    9.222849e+18"
      ]
     },
     "execution_count": 18,
     "metadata": {},
     "output_type": "execute_result"
    }
   ],
   "source": [
    "phone_brand_device_df.describe()"
   ]
  },
  {
   "cell_type": "markdown",
   "metadata": {
    "id": "j9KJvy4OA_4F"
   },
   "source": [
    "#### **Events_data**"
   ]
  },
  {
   "cell_type": "code",
   "execution_count": 19,
   "metadata": {
    "colab": {
     "base_uri": "https://localhost:8080/",
     "height": 300
    },
    "id": "Vja4RBcmBZF6",
    "outputId": "90aba0be-743e-44a9-941b-20bb9f164905"
   },
   "outputs": [
    {
     "data": {
      "text/html": [
       "<div>\n",
       "<style scoped>\n",
       "    .dataframe tbody tr th:only-of-type {\n",
       "        vertical-align: middle;\n",
       "    }\n",
       "\n",
       "    .dataframe tbody tr th {\n",
       "        vertical-align: top;\n",
       "    }\n",
       "\n",
       "    .dataframe thead th {\n",
       "        text-align: right;\n",
       "    }\n",
       "</style>\n",
       "<table border=\"1\" class=\"dataframe\">\n",
       "  <thead>\n",
       "    <tr style=\"text-align: right;\">\n",
       "      <th></th>\n",
       "      <th>event_id</th>\n",
       "      <th>device_id</th>\n",
       "      <th>longitude</th>\n",
       "      <th>latitude</th>\n",
       "    </tr>\n",
       "  </thead>\n",
       "  <tbody>\n",
       "    <tr>\n",
       "      <th>count</th>\n",
       "      <td>3.252950e+06</td>\n",
       "      <td>3.252497e+06</td>\n",
       "      <td>3.252527e+06</td>\n",
       "      <td>3.252527e+06</td>\n",
       "    </tr>\n",
       "    <tr>\n",
       "      <th>mean</th>\n",
       "      <td>1.626476e+06</td>\n",
       "      <td>1.012200e+17</td>\n",
       "      <td>7.815868e+01</td>\n",
       "      <td>2.168851e+01</td>\n",
       "    </tr>\n",
       "    <tr>\n",
       "      <th>std</th>\n",
       "      <td>9.390459e+05</td>\n",
       "      <td>5.316758e+18</td>\n",
       "      <td>4.235570e+00</td>\n",
       "      <td>5.789111e+00</td>\n",
       "    </tr>\n",
       "    <tr>\n",
       "      <th>min</th>\n",
       "      <td>1.000000e+00</td>\n",
       "      <td>-9.222957e+18</td>\n",
       "      <td>1.256700e+01</td>\n",
       "      <td>8.190110e+00</td>\n",
       "    </tr>\n",
       "    <tr>\n",
       "      <th>25%</th>\n",
       "      <td>8.132382e+05</td>\n",
       "      <td>-4.540611e+18</td>\n",
       "      <td>7.583543e+01</td>\n",
       "      <td>1.780171e+01</td>\n",
       "    </tr>\n",
       "    <tr>\n",
       "      <th>50%</th>\n",
       "      <td>1.626476e+06</td>\n",
       "      <td>1.726820e+17</td>\n",
       "      <td>7.726814e+01</td>\n",
       "      <td>2.216454e+01</td>\n",
       "    </tr>\n",
       "    <tr>\n",
       "      <th>75%</th>\n",
       "      <td>2.439713e+06</td>\n",
       "      <td>4.861813e+18</td>\n",
       "      <td>8.031916e+01</td>\n",
       "      <td>2.868278e+01</td>\n",
       "    </tr>\n",
       "    <tr>\n",
       "      <th>max</th>\n",
       "      <td>3.252950e+06</td>\n",
       "      <td>9.222849e+18</td>\n",
       "      <td>9.545946e+01</td>\n",
       "      <td>4.187190e+01</td>\n",
       "    </tr>\n",
       "  </tbody>\n",
       "</table>\n",
       "</div>"
      ],
      "text/plain": [
       "           event_id     device_id     longitude      latitude\n",
       "count  3.252950e+06  3.252497e+06  3.252527e+06  3.252527e+06\n",
       "mean   1.626476e+06  1.012200e+17  7.815868e+01  2.168851e+01\n",
       "std    9.390459e+05  5.316758e+18  4.235570e+00  5.789111e+00\n",
       "min    1.000000e+00 -9.222957e+18  1.256700e+01  8.190110e+00\n",
       "25%    8.132382e+05 -4.540611e+18  7.583543e+01  1.780171e+01\n",
       "50%    1.626476e+06  1.726820e+17  7.726814e+01  2.216454e+01\n",
       "75%    2.439713e+06  4.861813e+18  8.031916e+01  2.868278e+01\n",
       "max    3.252950e+06  9.222849e+18  9.545946e+01  4.187190e+01"
      ]
     },
     "execution_count": 19,
     "metadata": {},
     "output_type": "execute_result"
    }
   ],
   "source": [
    "event_df.describe()"
   ]
  },
  {
   "cell_type": "markdown",
   "metadata": {
    "id": "ZMURHm2Pvth-"
   },
   "source": [
    "<a name = Section42></a>\n",
    "### **4.2 Data Information**"
   ]
  },
  {
   "cell_type": "markdown",
   "metadata": {
    "id": "BRkLtr6RBqRc"
   },
   "source": [
    "#### **gender_age_train**"
   ]
  },
  {
   "cell_type": "code",
   "execution_count": 20,
   "metadata": {
    "colab": {
     "base_uri": "https://localhost:8080/"
    },
    "id": "znbb-lvVBpo5",
    "outputId": "ae90508c-eb55-424a-e360-6784a139e0ab"
   },
   "outputs": [
    {
     "name": "stdout",
     "output_type": "stream",
     "text": [
      "<class 'pandas.core.frame.DataFrame'>\n",
      "RangeIndex: 74645 entries, 0 to 74644\n",
      "Data columns (total 4 columns):\n",
      " #   Column     Non-Null Count  Dtype \n",
      "---  ------     --------------  ----- \n",
      " 0   device_id  74645 non-null  int64 \n",
      " 1   gender     74645 non-null  object\n",
      " 2   age        74645 non-null  int64 \n",
      " 3   group      74645 non-null  object\n",
      "dtypes: int64(2), object(2)\n",
      "memory usage: 2.3+ MB\n"
     ]
    }
   ],
   "source": [
    "gender_age_train_df.info()"
   ]
  },
  {
   "cell_type": "markdown",
   "metadata": {
    "id": "ynl4DEkNBtUv"
   },
   "source": [
    "#### **phone_brand_device_model**"
   ]
  },
  {
   "cell_type": "code",
   "execution_count": 21,
   "metadata": {
    "colab": {
     "base_uri": "https://localhost:8080/"
    },
    "id": "bsFp98AGvuIv",
    "outputId": "4ad5e2ff-0ee2-47a2-93ff-d07754e01941"
   },
   "outputs": [
    {
     "name": "stdout",
     "output_type": "stream",
     "text": [
      "<class 'pandas.core.frame.DataFrame'>\n",
      "RangeIndex: 87726 entries, 0 to 87725\n",
      "Data columns (total 3 columns):\n",
      " #   Column        Non-Null Count  Dtype \n",
      "---  ------        --------------  ----- \n",
      " 0   device_id     87726 non-null  int64 \n",
      " 1   phone_brand   87726 non-null  object\n",
      " 2   device_model  87726 non-null  object\n",
      "dtypes: int64(1), object(2)\n",
      "memory usage: 2.0+ MB\n"
     ]
    }
   ],
   "source": [
    "phone_brand_device_df.info()"
   ]
  },
  {
   "cell_type": "markdown",
   "metadata": {
    "id": "l4l4B3iWB366"
   },
   "source": [
    "#### **Events_data**"
   ]
  },
  {
   "cell_type": "code",
   "execution_count": 22,
   "metadata": {
    "colab": {
     "base_uri": "https://localhost:8080/"
    },
    "id": "9rIeaoNbB_sf",
    "outputId": "9beef134-df1c-445a-fdf6-17e83f4cbb9b"
   },
   "outputs": [
    {
     "name": "stdout",
     "output_type": "stream",
     "text": [
      "<class 'pandas.core.frame.DataFrame'>\n",
      "RangeIndex: 3252950 entries, 0 to 3252949\n",
      "Data columns (total 7 columns):\n",
      " #   Column     Dtype  \n",
      "---  ------     -----  \n",
      " 0   event_id   int64  \n",
      " 1   device_id  float64\n",
      " 2   timestamp  object \n",
      " 3   longitude  float64\n",
      " 4   latitude   float64\n",
      " 5   city       object \n",
      " 6   state      object \n",
      "dtypes: float64(3), int64(1), object(3)\n",
      "memory usage: 173.7+ MB\n"
     ]
    }
   ],
   "source": [
    "event_df.info()"
   ]
  },
  {
   "cell_type": "markdown",
   "metadata": {
    "id": "2Myu_SnPvw5q"
   },
   "source": [
    "---\n",
    "<a name = Section5></a>\n",
    "# **5. Data Pre-Profiling**\n",
    "---"
   ]
  },
  {
   "cell_type": "code",
   "execution_count": 23,
   "metadata": {
    "colab": {
     "base_uri": "https://localhost:8080/",
     "height": 444,
     "referenced_widgets": [
      "e4817fdf47f048e19b8c083076aa2ee6",
      "ec88b3b4aa014f65bd7d9ee8a7f47720",
      "33e7e034d22041efb3950e52f4b70b8b",
      "b2a60130e04141d69f198df2a9441cc5",
      "2b9bc67cd5d747e4be513582ff876f16",
      "8b0e8fdb1a7b4de8b388f1c6706917f8",
      "8bad40c205904582bbb3a5d272b5f049",
      "57e8295780d44ff19180e1d76ce26ec6",
      "fd4ad0a86ef34ad8ab08973f295e77d6",
      "8344350ce50842eb8cd1b46e73ba2c7f",
      "9d1a7a15b2344861bff58d78b98e17a2",
      "cd02c56320194bb593c5dbdf2ef29b9f",
      "4bd59864ad3444b6941ceaf559166b08",
      "f7e5e3ba24724d2382ed7a7be88e69db",
      "ab14ec9060a541b791af932449c8f294",
      "fb173db4d6a047318e2bd8738c1bc482",
      "f7d6235eae2343c08e0638ec78975d1f",
      "123056ae5bc24118a4f35bfbeb1a63f4",
      "15d4f1771c8c474f86f678b40a741df2",
      "475556edb86f4c808eb5c52479ec9560",
      "8407cf2b5f4d48aa8f075c10414828ee",
      "42dc650bd8a34ddd9126e885d14e3cec"
     ]
    },
    "id": "mfUx7O8Gl80g",
    "outputId": "7835b6ef-e426-437a-de0b-231bb6ce2ed1"
   },
   "outputs": [],
   "source": [
    "# profile = ProfileReport(df = event_df, minimal = False, explorative=True, dark_mode=True, title = \"Events Pre Profiling Report\")\n",
    "# profile.to_file(output_file='Event DF Pre profiling report.html')\n",
    "# print('Profiling Completed!!!')"
   ]
  },
  {
   "cell_type": "code",
   "execution_count": 24,
   "metadata": {
    "id": "4eD6piC4omvR"
   },
   "outputs": [],
   "source": [
    "# profile = ProfileReport(df = gender_age_train_df, minimal = False, explorative=True, dark_mode=True, title = \"Gender Age Pre Profiling Report\")\n",
    "# profile.to_file(output_file='Gender age Pre profiling report.html')\n",
    "# print('Profiling Completed!!!')"
   ]
  },
  {
   "cell_type": "code",
   "execution_count": 25,
   "metadata": {},
   "outputs": [],
   "source": [
    "# profile = ProfileReport(df = phone_brand_device_df, minimal = False, explorative=True, dark_mode=True, title = \"Phone Brand Device Pre-profiling Report\")\n",
    "# profile.to_file(output_file='Phone Brand Device Pre profiling report.html')\n",
    "# print('Profiling Completed!!!')"
   ]
  },
  {
   "cell_type": "code",
   "execution_count": 26,
   "metadata": {
    "id": "3R-UE4j-q5bB"
   },
   "outputs": [
    {
     "data": {
      "text/plain": [
       " 4.428421e+17    6718\n",
       " 2.601607e+18    3425\n",
       "-5.829328e+18    2861\n",
       "-7.364841e+18    2625\n",
       " 7.018600e+18    1915\n",
       "                 ... \n",
       "-3.653909e+18       1\n",
       " 5.113546e+18       1\n",
       " 7.885046e+18       1\n",
       "-6.058409e+18       1\n",
       "-1.420493e+18       1\n",
       "Name: device_id, Length: 9010, dtype: int64"
      ]
     },
     "execution_count": 26,
     "metadata": {},
     "output_type": "execute_result"
    }
   ],
   "source": [
    "event_df[event_df['state']=='Maharashtra']['device_id'].value_counts()"
   ]
  },
  {
   "cell_type": "code",
   "execution_count": 27,
   "metadata": {
    "id": "OtkcIh_1qSKj"
   },
   "outputs": [
    {
     "data": {
      "text/plain": [
       "Delhi                       751733\n",
       "Maharashtra                 677105\n",
       "TamilNadu                   436282\n",
       "AndhraPradesh               321332\n",
       "MadhyaPradesh               232690\n",
       "Rajasthan                   196361\n",
       "WestBengal                  196161\n",
       "Karnataka                    99058\n",
       "UttarPradesh                 94750\n",
       "Gujarat                      42881\n",
       "Bihar                        35472\n",
       "Punjab                       26195\n",
       "Kerala                       23148\n",
       "Haryana                      21053\n",
       "Jharkhand                    18060\n",
       "Orissa                       15904\n",
       "Telangana                    12784\n",
       "Assam                        12021\n",
       "Chhattisgarh                  9754\n",
       "Uttaranchal                   7720\n",
       "JammuandKashmir               5385\n",
       "Goa                           3250\n",
       "Nagaland                      2298\n",
       "Pondicherry                   1741\n",
       "Mizoram                       1613\n",
       "Meghalaya                     1515\n",
       "AndamanandNicobarIslands      1515\n",
       "HimachalPradesh               1409\n",
       "Manipur                        989\n",
       "Chandigarh                     894\n",
       "Tripura                        892\n",
       "ArunachalPradesh               608\n",
       "Name: state, dtype: int64"
      ]
     },
     "execution_count": 27,
     "metadata": {},
     "output_type": "execute_result"
    }
   ],
   "source": [
    "event_df['state'].value_counts()"
   ]
  },
  {
   "cell_type": "code",
   "execution_count": 28,
   "metadata": {
    "id": "sDJmvqrevxsG"
   },
   "outputs": [
    {
     "data": {
      "text/plain": [
       "0        1877775838486905855\n",
       "1       -3766087376657242966\n",
       "2       -6238937574958215831\n",
       "3        8973197758510677470\n",
       "4       -2015528097870762664\n",
       "                ...         \n",
       "87721   -4961458925928574032\n",
       "87722   -8819817317449262375\n",
       "87723   -3358291377416935026\n",
       "87724    3282788959750981633\n",
       "87725    2491639413207286271\n",
       "Name: device_id, Length: 87726, dtype: int64"
      ]
     },
     "execution_count": 28,
     "metadata": {},
     "output_type": "execute_result"
    }
   ],
   "source": [
    "phone_brand_device_df['device_id']"
   ]
  },
  {
   "cell_type": "markdown",
   "metadata": {
    "id": "-bE_Wzx9v1jr"
   },
   "source": [
    "### Missing Values analysis"
   ]
  },
  {
   "cell_type": "code",
   "execution_count": 29,
   "metadata": {
    "id": "S1951jYiv2ap"
   },
   "outputs": [
    {
     "data": {
      "text/plain": [
       "event_id       0\n",
       "device_id    453\n",
       "timestamp      0\n",
       "longitude    423\n",
       "latitude     423\n",
       "city           0\n",
       "state        377\n",
       "dtype: int64"
      ]
     },
     "execution_count": 29,
     "metadata": {},
     "output_type": "execute_result"
    }
   ],
   "source": [
    "event_df.isna().sum()"
   ]
  },
  {
   "cell_type": "markdown",
   "metadata": {},
   "source": [
    "Missing Values are as follows:\n",
    "- device_id - 453\n",
    "- longitude - 423\n",
    "- latitude - 423\n",
    "- state - 377"
   ]
  },
  {
   "cell_type": "code",
   "execution_count": 30,
   "metadata": {},
   "outputs": [
    {
     "data": {
      "text/plain": [
       "device_id       0\n",
       "phone_brand     0\n",
       "device_model    0\n",
       "dtype: int64"
      ]
     },
     "execution_count": 30,
     "metadata": {},
     "output_type": "execute_result"
    }
   ],
   "source": [
    "phone_brand_device_df.isna().sum()"
   ]
  },
  {
   "cell_type": "code",
   "execution_count": 31,
   "metadata": {},
   "outputs": [
    {
     "data": {
      "text/plain": [
       "device_id    0\n",
       "gender       0\n",
       "age          0\n",
       "group        0\n",
       "dtype: int64"
      ]
     },
     "execution_count": 31,
     "metadata": {},
     "output_type": "execute_result"
    }
   ],
   "source": [
    "gender_age_train_df.isna().sum()"
   ]
  },
  {
   "cell_type": "markdown",
   "metadata": {
    "id": "41TwP5dVv5IM"
   },
   "source": [
    "### Duplicated Entries/Values"
   ]
  },
  {
   "cell_type": "code",
   "execution_count": 32,
   "metadata": {
    "id": "cguZHvyYv5tl"
   },
   "outputs": [
    {
     "data": {
      "text/plain": [
       "False    3252950\n",
       "dtype: int64"
      ]
     },
     "execution_count": 32,
     "metadata": {},
     "output_type": "execute_result"
    }
   ],
   "source": [
    "event_df.duplicated().value_counts()"
   ]
  },
  {
   "cell_type": "code",
   "execution_count": 33,
   "metadata": {},
   "outputs": [
    {
     "data": {
      "text/plain": [
       "False    87726\n",
       "dtype: int64"
      ]
     },
     "execution_count": 33,
     "metadata": {},
     "output_type": "execute_result"
    }
   ],
   "source": [
    "phone_brand_device_df.duplicated().value_counts()"
   ]
  },
  {
   "cell_type": "code",
   "execution_count": 34,
   "metadata": {},
   "outputs": [
    {
     "data": {
      "text/plain": [
       "False    74645\n",
       "dtype: int64"
      ]
     },
     "execution_count": 34,
     "metadata": {},
     "output_type": "execute_result"
    }
   ],
   "source": [
    "gender_age_train_df.duplicated().value_counts()"
   ]
  },
  {
   "cell_type": "markdown",
   "metadata": {
    "id": "qJx8e8cvv7WY"
   },
   "source": [
    "### Handling Outliers"
   ]
  },
  {
   "cell_type": "code",
   "execution_count": null,
   "metadata": {
    "id": "doJm5Zyav77z"
   },
   "outputs": [],
   "source": []
  },
  {
   "cell_type": "markdown",
   "metadata": {
    "id": "6KLd9Zsvv9Cs"
   },
   "source": [
    "### Improper Data Type"
   ]
  },
  {
   "cell_type": "code",
   "execution_count": null,
   "metadata": {
    "id": "V_TvQW2QwGvf"
   },
   "outputs": [],
   "source": []
  },
  {
   "cell_type": "markdown",
   "metadata": {
    "id": "EUspHzxewHdi"
   },
   "source": [
    "### **Observations**"
   ]
  },
  {
   "cell_type": "markdown",
   "metadata": {
    "id": "r4dor33CwOFV"
   },
   "source": []
  },
  {
   "cell_type": "markdown",
   "metadata": {
    "id": "yLtAeKXEwPir"
   },
   "source": [
    "---\n",
    "<a name = Section6></a>\n",
    "# **6. Data Cleaning**\n",
    "---"
   ]
  },
  {
   "cell_type": "markdown",
   "metadata": {
    "id": "2MQ5VkZQwUIc"
   },
   "source": [
    "Missing Values"
   ]
  },
  {
   "cell_type": "code",
   "execution_count": 35,
   "metadata": {},
   "outputs": [
    {
     "data": {
      "text/html": [
       "<div>\n",
       "<style scoped>\n",
       "    .dataframe tbody tr th:only-of-type {\n",
       "        vertical-align: middle;\n",
       "    }\n",
       "\n",
       "    .dataframe tbody tr th {\n",
       "        vertical-align: top;\n",
       "    }\n",
       "\n",
       "    .dataframe thead th {\n",
       "        text-align: right;\n",
       "    }\n",
       "</style>\n",
       "<table border=\"1\" class=\"dataframe\">\n",
       "  <thead>\n",
       "    <tr style=\"text-align: right;\">\n",
       "      <th></th>\n",
       "      <th>event_id</th>\n",
       "      <th>device_id</th>\n",
       "      <th>timestamp</th>\n",
       "      <th>longitude</th>\n",
       "      <th>latitude</th>\n",
       "      <th>city</th>\n",
       "      <th>state</th>\n",
       "    </tr>\n",
       "  </thead>\n",
       "  <tbody>\n",
       "    <tr>\n",
       "      <th>0</th>\n",
       "      <td>2765368</td>\n",
       "      <td>2.973348e+18</td>\n",
       "      <td>2016-05-07 22:52:05</td>\n",
       "      <td>77.225676</td>\n",
       "      <td>28.730140</td>\n",
       "      <td>Delhi</td>\n",
       "      <td>Delhi</td>\n",
       "    </tr>\n",
       "    <tr>\n",
       "      <th>1</th>\n",
       "      <td>2955066</td>\n",
       "      <td>4.734221e+18</td>\n",
       "      <td>2016-05-01 20:44:16</td>\n",
       "      <td>88.388361</td>\n",
       "      <td>22.660325</td>\n",
       "      <td>Calcutta</td>\n",
       "      <td>WestBengal</td>\n",
       "    </tr>\n",
       "    <tr>\n",
       "      <th>2</th>\n",
       "      <td>605968</td>\n",
       "      <td>-3.264500e+18</td>\n",
       "      <td>2016-05-02 14:23:04</td>\n",
       "      <td>77.256809</td>\n",
       "      <td>28.757906</td>\n",
       "      <td>Delhi</td>\n",
       "      <td>Delhi</td>\n",
       "    </tr>\n",
       "    <tr>\n",
       "      <th>3</th>\n",
       "      <td>448114</td>\n",
       "      <td>5.731369e+18</td>\n",
       "      <td>2016-05-03 13:21:16</td>\n",
       "      <td>80.343613</td>\n",
       "      <td>13.153332</td>\n",
       "      <td>Chennai</td>\n",
       "      <td>TamilNadu</td>\n",
       "    </tr>\n",
       "    <tr>\n",
       "      <th>4</th>\n",
       "      <td>665740</td>\n",
       "      <td>3.388880e+17</td>\n",
       "      <td>2016-05-06 03:51:05</td>\n",
       "      <td>85.997745</td>\n",
       "      <td>23.842609</td>\n",
       "      <td>Bokaro</td>\n",
       "      <td>Jharkhand</td>\n",
       "    </tr>\n",
       "  </tbody>\n",
       "</table>\n",
       "</div>"
      ],
      "text/plain": [
       "   event_id     device_id            timestamp  longitude   latitude  \\\n",
       "0   2765368  2.973348e+18  2016-05-07 22:52:05  77.225676  28.730140   \n",
       "1   2955066  4.734221e+18  2016-05-01 20:44:16  88.388361  22.660325   \n",
       "2    605968 -3.264500e+18  2016-05-02 14:23:04  77.256809  28.757906   \n",
       "3    448114  5.731369e+18  2016-05-03 13:21:16  80.343613  13.153332   \n",
       "4    665740  3.388880e+17  2016-05-06 03:51:05  85.997745  23.842609   \n",
       "\n",
       "       city       state  \n",
       "0     Delhi       Delhi  \n",
       "1  Calcutta  WestBengal  \n",
       "2     Delhi       Delhi  \n",
       "3   Chennai   TamilNadu  \n",
       "4    Bokaro   Jharkhand  "
      ]
     },
     "execution_count": 35,
     "metadata": {},
     "output_type": "execute_result"
    }
   ],
   "source": [
    "event_df.head()"
   ]
  },
  {
   "cell_type": "code",
   "execution_count": 36,
   "metadata": {},
   "outputs": [
    {
     "data": {
      "text/html": [
       "<div>\n",
       "<style scoped>\n",
       "    .dataframe tbody tr th:only-of-type {\n",
       "        vertical-align: middle;\n",
       "    }\n",
       "\n",
       "    .dataframe tbody tr th {\n",
       "        vertical-align: top;\n",
       "    }\n",
       "\n",
       "    .dataframe thead th {\n",
       "        text-align: right;\n",
       "    }\n",
       "</style>\n",
       "<table border=\"1\" class=\"dataframe\">\n",
       "  <thead>\n",
       "    <tr style=\"text-align: right;\">\n",
       "      <th></th>\n",
       "      <th>event_id</th>\n",
       "      <th>device_id</th>\n",
       "      <th>timestamp</th>\n",
       "      <th>longitude</th>\n",
       "      <th>latitude</th>\n",
       "      <th>city</th>\n",
       "      <th>state</th>\n",
       "    </tr>\n",
       "  </thead>\n",
       "  <tbody>\n",
       "    <tr>\n",
       "      <th>2055</th>\n",
       "      <td>1936567</td>\n",
       "      <td>NaN</td>\n",
       "      <td>2016-05-02 15:27:54</td>\n",
       "      <td>75.882956</td>\n",
       "      <td>22.814519</td>\n",
       "      <td>Indore</td>\n",
       "      <td>MadhyaPradesh</td>\n",
       "    </tr>\n",
       "    <tr>\n",
       "      <th>26367</th>\n",
       "      <td>2659282</td>\n",
       "      <td>NaN</td>\n",
       "      <td>2016-05-04 14:06:24</td>\n",
       "      <td>75.888487</td>\n",
       "      <td>26.948689</td>\n",
       "      <td>Jaipur</td>\n",
       "      <td>Rajasthan</td>\n",
       "    </tr>\n",
       "    <tr>\n",
       "      <th>42088</th>\n",
       "      <td>442198</td>\n",
       "      <td>NaN</td>\n",
       "      <td>2016-05-06 09:27:37</td>\n",
       "      <td>75.846007</td>\n",
       "      <td>26.960796</td>\n",
       "      <td>Jaipur</td>\n",
       "      <td>Rajasthan</td>\n",
       "    </tr>\n",
       "    <tr>\n",
       "      <th>43061</th>\n",
       "      <td>1903648</td>\n",
       "      <td>NaN</td>\n",
       "      <td>2016-05-02 15:41:54</td>\n",
       "      <td>75.923332</td>\n",
       "      <td>22.777781</td>\n",
       "      <td>Indore</td>\n",
       "      <td>MadhyaPradesh</td>\n",
       "    </tr>\n",
       "    <tr>\n",
       "      <th>44823</th>\n",
       "      <td>3227383</td>\n",
       "      <td>NaN</td>\n",
       "      <td>2016-05-05 08:37:09</td>\n",
       "      <td>75.992551</td>\n",
       "      <td>31.561747</td>\n",
       "      <td>Hoshiarpur</td>\n",
       "      <td>Punjab</td>\n",
       "    </tr>\n",
       "    <tr>\n",
       "      <th>...</th>\n",
       "      <td>...</td>\n",
       "      <td>...</td>\n",
       "      <td>...</td>\n",
       "      <td>...</td>\n",
       "      <td>...</td>\n",
       "      <td>...</td>\n",
       "      <td>...</td>\n",
       "    </tr>\n",
       "    <tr>\n",
       "      <th>3212337</th>\n",
       "      <td>2191286</td>\n",
       "      <td>NaN</td>\n",
       "      <td>2016-05-04 18:16:06</td>\n",
       "      <td>83.357991</td>\n",
       "      <td>17.805195</td>\n",
       "      <td>Visakhapatnam</td>\n",
       "      <td>AndhraPradesh</td>\n",
       "    </tr>\n",
       "    <tr>\n",
       "      <th>3215120</th>\n",
       "      <td>572054</td>\n",
       "      <td>NaN</td>\n",
       "      <td>2016-05-07 08:48:22</td>\n",
       "      <td>83.371738</td>\n",
       "      <td>17.752819</td>\n",
       "      <td>Visakhapatnam</td>\n",
       "      <td>AndhraPradesh</td>\n",
       "    </tr>\n",
       "    <tr>\n",
       "      <th>3230115</th>\n",
       "      <td>332451</td>\n",
       "      <td>NaN</td>\n",
       "      <td>2016-05-07 09:01:45</td>\n",
       "      <td>75.992551</td>\n",
       "      <td>31.561747</td>\n",
       "      <td>Hoshiarpur</td>\n",
       "      <td>Punjab</td>\n",
       "    </tr>\n",
       "    <tr>\n",
       "      <th>3235494</th>\n",
       "      <td>2534073</td>\n",
       "      <td>NaN</td>\n",
       "      <td>2016-05-06 21:07:01</td>\n",
       "      <td>83.371738</td>\n",
       "      <td>17.752819</td>\n",
       "      <td>Visakhapatnam</td>\n",
       "      <td>AndhraPradesh</td>\n",
       "    </tr>\n",
       "    <tr>\n",
       "      <th>3250939</th>\n",
       "      <td>1622538</td>\n",
       "      <td>NaN</td>\n",
       "      <td>2016-05-06 21:26:10</td>\n",
       "      <td>75.888487</td>\n",
       "      <td>26.948689</td>\n",
       "      <td>Jaipur</td>\n",
       "      <td>Rajasthan</td>\n",
       "    </tr>\n",
       "  </tbody>\n",
       "</table>\n",
       "<p>453 rows × 7 columns</p>\n",
       "</div>"
      ],
      "text/plain": [
       "         event_id  device_id            timestamp  longitude   latitude  \\\n",
       "2055      1936567        NaN  2016-05-02 15:27:54  75.882956  22.814519   \n",
       "26367     2659282        NaN  2016-05-04 14:06:24  75.888487  26.948689   \n",
       "42088      442198        NaN  2016-05-06 09:27:37  75.846007  26.960796   \n",
       "43061     1903648        NaN  2016-05-02 15:41:54  75.923332  22.777781   \n",
       "44823     3227383        NaN  2016-05-05 08:37:09  75.992551  31.561747   \n",
       "...           ...        ...                  ...        ...        ...   \n",
       "3212337   2191286        NaN  2016-05-04 18:16:06  83.357991  17.805195   \n",
       "3215120    572054        NaN  2016-05-07 08:48:22  83.371738  17.752819   \n",
       "3230115    332451        NaN  2016-05-07 09:01:45  75.992551  31.561747   \n",
       "3235494   2534073        NaN  2016-05-06 21:07:01  83.371738  17.752819   \n",
       "3250939   1622538        NaN  2016-05-06 21:26:10  75.888487  26.948689   \n",
       "\n",
       "                  city          state  \n",
       "2055            Indore  MadhyaPradesh  \n",
       "26367           Jaipur      Rajasthan  \n",
       "42088           Jaipur      Rajasthan  \n",
       "43061           Indore  MadhyaPradesh  \n",
       "44823       Hoshiarpur         Punjab  \n",
       "...                ...            ...  \n",
       "3212337  Visakhapatnam  AndhraPradesh  \n",
       "3215120  Visakhapatnam  AndhraPradesh  \n",
       "3230115     Hoshiarpur         Punjab  \n",
       "3235494  Visakhapatnam  AndhraPradesh  \n",
       "3250939         Jaipur      Rajasthan  \n",
       "\n",
       "[453 rows x 7 columns]"
      ]
     },
     "execution_count": 36,
     "metadata": {},
     "output_type": "execute_result"
    }
   ],
   "source": [
    "event_df[event_df['device_id'].isna()]"
   ]
  },
  {
   "cell_type": "code",
   "execution_count": 37,
   "metadata": {},
   "outputs": [
    {
     "data": {
      "text/plain": [
       "0    5.536513e+18\n",
       "Name: device_id, dtype: float64"
      ]
     },
     "execution_count": 37,
     "metadata": {},
     "output_type": "execute_result"
    }
   ],
   "source": [
    "event_df['device_id'].mode()"
   ]
  },
  {
   "cell_type": "code",
   "execution_count": 40,
   "metadata": {},
   "outputs": [
    {
     "data": {
      "text/plain": [
       "Delhi                       751733\n",
       "Maharashtra                 677105\n",
       "TamilNadu                   436282\n",
       "AndhraPradesh               321332\n",
       "MadhyaPradesh               232690\n",
       "Rajasthan                   196361\n",
       "WestBengal                  196161\n",
       "Karnataka                    99058\n",
       "UttarPradesh                 94750\n",
       "Gujarat                      42881\n",
       "Bihar                        35472\n",
       "Punjab                       26195\n",
       "Kerala                       23148\n",
       "Haryana                      21053\n",
       "Jharkhand                    18060\n",
       "Orissa                       15904\n",
       "Telangana                    12784\n",
       "Assam                        12021\n",
       "Chhattisgarh                  9754\n",
       "Uttaranchal                   7720\n",
       "JammuandKashmir               5385\n",
       "Goa                           3250\n",
       "Nagaland                      2298\n",
       "Pondicherry                   1741\n",
       "Mizoram                       1613\n",
       "Meghalaya                     1515\n",
       "AndamanandNicobarIslands      1515\n",
       "HimachalPradesh               1409\n",
       "Manipur                        989\n",
       "Chandigarh                     894\n",
       "Tripura                        892\n",
       "ArunachalPradesh               608\n",
       "Name: state, dtype: int64"
      ]
     },
     "execution_count": 40,
     "metadata": {},
     "output_type": "execute_result"
    }
   ],
   "source": [
    "event_df.state.value_counts()"
   ]
  },
  {
   "cell_type": "code",
   "execution_count": 41,
   "metadata": {},
   "outputs": [
    {
     "data": {
      "text/html": [
       "<div>\n",
       "<style scoped>\n",
       "    .dataframe tbody tr th:only-of-type {\n",
       "        vertical-align: middle;\n",
       "    }\n",
       "\n",
       "    .dataframe tbody tr th {\n",
       "        vertical-align: top;\n",
       "    }\n",
       "\n",
       "    .dataframe thead th {\n",
       "        text-align: right;\n",
       "    }\n",
       "</style>\n",
       "<table border=\"1\" class=\"dataframe\">\n",
       "  <thead>\n",
       "    <tr style=\"text-align: right;\">\n",
       "      <th></th>\n",
       "      <th>event_id</th>\n",
       "      <th>device_id</th>\n",
       "      <th>timestamp</th>\n",
       "      <th>longitude</th>\n",
       "      <th>latitude</th>\n",
       "      <th>city</th>\n",
       "      <th>state</th>\n",
       "    </tr>\n",
       "  </thead>\n",
       "  <tbody>\n",
       "    <tr>\n",
       "      <th>9</th>\n",
       "      <td>720049</td>\n",
       "      <td>4.928556e+18</td>\n",
       "      <td>2016-05-06 19:00:52</td>\n",
       "      <td>72.844795</td>\n",
       "      <td>18.974929</td>\n",
       "      <td>Mumbai</td>\n",
       "      <td>Maharashtra</td>\n",
       "    </tr>\n",
       "    <tr>\n",
       "      <th>11</th>\n",
       "      <td>13998</td>\n",
       "      <td>3.978026e+18</td>\n",
       "      <td>2016-05-06 13:12:42</td>\n",
       "      <td>73.875196</td>\n",
       "      <td>18.615791</td>\n",
       "      <td>Pune</td>\n",
       "      <td>Maharashtra</td>\n",
       "    </tr>\n",
       "    <tr>\n",
       "      <th>20</th>\n",
       "      <td>1378252</td>\n",
       "      <td>-4.384474e+18</td>\n",
       "      <td>2016-05-05 04:20:02</td>\n",
       "      <td>73.914179</td>\n",
       "      <td>18.619081</td>\n",
       "      <td>Pune</td>\n",
       "      <td>Maharashtra</td>\n",
       "    </tr>\n",
       "    <tr>\n",
       "      <th>21</th>\n",
       "      <td>185325</td>\n",
       "      <td>-7.369690e+18</td>\n",
       "      <td>2016-05-02 20:07:07</td>\n",
       "      <td>72.874552</td>\n",
       "      <td>19.014537</td>\n",
       "      <td>Mumbai</td>\n",
       "      <td>Maharashtra</td>\n",
       "    </tr>\n",
       "    <tr>\n",
       "      <th>22</th>\n",
       "      <td>1861432</td>\n",
       "      <td>3.965811e+18</td>\n",
       "      <td>2016-05-02 20:49:13</td>\n",
       "      <td>73.938826</td>\n",
       "      <td>18.582846</td>\n",
       "      <td>Pune</td>\n",
       "      <td>Maharashtra</td>\n",
       "    </tr>\n",
       "    <tr>\n",
       "      <th>...</th>\n",
       "      <td>...</td>\n",
       "      <td>...</td>\n",
       "      <td>...</td>\n",
       "      <td>...</td>\n",
       "      <td>...</td>\n",
       "      <td>...</td>\n",
       "      <td>...</td>\n",
       "    </tr>\n",
       "    <tr>\n",
       "      <th>3252938</th>\n",
       "      <td>73002</td>\n",
       "      <td>-5.758560e+18</td>\n",
       "      <td>2016-05-03 06:30:02</td>\n",
       "      <td>73.858068</td>\n",
       "      <td>18.574054</td>\n",
       "      <td>Pune</td>\n",
       "      <td>Maharashtra</td>\n",
       "    </tr>\n",
       "    <tr>\n",
       "      <th>3252941</th>\n",
       "      <td>3046303</td>\n",
       "      <td>5.212597e+18</td>\n",
       "      <td>2016-05-04 07:50:48</td>\n",
       "      <td>73.897710</td>\n",
       "      <td>18.565680</td>\n",
       "      <td>Pune</td>\n",
       "      <td>Maharashtra</td>\n",
       "    </tr>\n",
       "    <tr>\n",
       "      <th>3252942</th>\n",
       "      <td>3244031</td>\n",
       "      <td>2.320543e+18</td>\n",
       "      <td>2016-05-07 18:36:01</td>\n",
       "      <td>73.886764</td>\n",
       "      <td>18.585058</td>\n",
       "      <td>Pune</td>\n",
       "      <td>Maharashtra</td>\n",
       "    </tr>\n",
       "    <tr>\n",
       "      <th>3252945</th>\n",
       "      <td>2687452</td>\n",
       "      <td>-1.937028e+18</td>\n",
       "      <td>2016-05-07 23:33:14</td>\n",
       "      <td>73.891597</td>\n",
       "      <td>18.544124</td>\n",
       "      <td>Pune</td>\n",
       "      <td>Maharashtra</td>\n",
       "    </tr>\n",
       "    <tr>\n",
       "      <th>3252946</th>\n",
       "      <td>1051580</td>\n",
       "      <td>3.345851e+18</td>\n",
       "      <td>2016-05-03 05:13:30</td>\n",
       "      <td>72.837258</td>\n",
       "      <td>19.018432</td>\n",
       "      <td>Mumbai</td>\n",
       "      <td>Maharashtra</td>\n",
       "    </tr>\n",
       "  </tbody>\n",
       "</table>\n",
       "<p>677105 rows × 7 columns</p>\n",
       "</div>"
      ],
      "text/plain": [
       "         event_id     device_id            timestamp  longitude   latitude  \\\n",
       "9          720049  4.928556e+18  2016-05-06 19:00:52  72.844795  18.974929   \n",
       "11          13998  3.978026e+18  2016-05-06 13:12:42  73.875196  18.615791   \n",
       "20        1378252 -4.384474e+18  2016-05-05 04:20:02  73.914179  18.619081   \n",
       "21         185325 -7.369690e+18  2016-05-02 20:07:07  72.874552  19.014537   \n",
       "22        1861432  3.965811e+18  2016-05-02 20:49:13  73.938826  18.582846   \n",
       "...           ...           ...                  ...        ...        ...   \n",
       "3252938     73002 -5.758560e+18  2016-05-03 06:30:02  73.858068  18.574054   \n",
       "3252941   3046303  5.212597e+18  2016-05-04 07:50:48  73.897710  18.565680   \n",
       "3252942   3244031  2.320543e+18  2016-05-07 18:36:01  73.886764  18.585058   \n",
       "3252945   2687452 -1.937028e+18  2016-05-07 23:33:14  73.891597  18.544124   \n",
       "3252946   1051580  3.345851e+18  2016-05-03 05:13:30  72.837258  19.018432   \n",
       "\n",
       "           city        state  \n",
       "9        Mumbai  Maharashtra  \n",
       "11         Pune  Maharashtra  \n",
       "20         Pune  Maharashtra  \n",
       "21       Mumbai  Maharashtra  \n",
       "22         Pune  Maharashtra  \n",
       "...         ...          ...  \n",
       "3252938    Pune  Maharashtra  \n",
       "3252941    Pune  Maharashtra  \n",
       "3252942    Pune  Maharashtra  \n",
       "3252945    Pune  Maharashtra  \n",
       "3252946  Mumbai  Maharashtra  \n",
       "\n",
       "[677105 rows x 7 columns]"
      ]
     },
     "execution_count": 41,
     "metadata": {},
     "output_type": "execute_result"
    }
   ],
   "source": [
    "event_df[event_df.state =='Maharashtra']"
   ]
  },
  {
   "cell_type": "markdown",
   "metadata": {},
   "source": [
    "### Changing the device_id dtype to object."
   ]
  },
  {
   "cell_type": "code",
   "execution_count": 42,
   "metadata": {},
   "outputs": [],
   "source": [
    "event_df['device_id'] = event_df['device_id'].astype(object)"
   ]
  },
  {
   "cell_type": "code",
   "execution_count": 50,
   "metadata": {},
   "outputs": [
    {
     "data": {
      "text/plain": [
       "5.536513450525271e+18"
      ]
     },
     "execution_count": 50,
     "metadata": {},
     "output_type": "execute_result"
    }
   ],
   "source": [
    "event_df['device_id'].mode()[0]"
   ]
  },
  {
   "cell_type": "code",
   "execution_count": 45,
   "metadata": {},
   "outputs": [],
   "source": [
    "event_df['device_id'].fillna(event_df['device_id'].mode()[0], inplace=True)"
   ]
  },
  {
   "cell_type": "code",
   "execution_count": 46,
   "metadata": {},
   "outputs": [
    {
     "data": {
      "text/plain": [
       "0          2.973348e+18\n",
       "1          4.734221e+18\n",
       "2         -3.264500e+18\n",
       "3          5.731369e+18\n",
       "4          3.388880e+17\n",
       "               ...     \n",
       "3252945   -1.937028e+18\n",
       "3252946    3.345851e+18\n",
       "3252947   -6.406040e+18\n",
       "3252948   -2.920741e+18\n",
       "3252949    3.212750e+18\n",
       "Name: device_id, Length: 3252950, dtype: float64"
      ]
     },
     "execution_count": 46,
     "metadata": {},
     "output_type": "execute_result"
    }
   ],
   "source": [
    "event_df['device_id']"
   ]
  },
  {
   "cell_type": "code",
   "execution_count": 47,
   "metadata": {},
   "outputs": [],
   "source": [
    "geolocator = Nominatim(user_agent=\"Acc Telecom\")"
   ]
  },
  {
   "cell_type": "code",
   "execution_count": 48,
   "metadata": {},
   "outputs": [],
   "source": [
    "def geocode(city):\n",
    "    location = geolocator.geocode(city)\n",
    "    return location.latitude, location.longitude"
   ]
  },
  {
   "cell_type": "code",
   "execution_count": 49,
   "metadata": {},
   "outputs": [
    {
     "ename": "KeyboardInterrupt",
     "evalue": "",
     "output_type": "error",
     "traceback": [
      "\u001b[1;31m---------------------------------------------------------------------------\u001b[0m",
      "\u001b[1;31mKeyboardInterrupt\u001b[0m                         Traceback (most recent call last)",
      "Cell \u001b[1;32mIn[49], line 1\u001b[0m\n\u001b[1;32m----> 1\u001b[0m \u001b[38;5;28;01mfor\u001b[39;00m index, row \u001b[38;5;129;01min\u001b[39;00m event_df\u001b[38;5;241m.\u001b[39miterrows():\n\u001b[0;32m      2\u001b[0m     \u001b[38;5;28;01mif\u001b[39;00m pd\u001b[38;5;241m.\u001b[39misnull(row[\u001b[38;5;124m'\u001b[39m\u001b[38;5;124mlatitude\u001b[39m\u001b[38;5;124m'\u001b[39m]) \u001b[38;5;129;01mor\u001b[39;00m pd\u001b[38;5;241m.\u001b[39misnull(row[\u001b[38;5;124m'\u001b[39m\u001b[38;5;124mlongitude\u001b[39m\u001b[38;5;124m'\u001b[39m]):\n\u001b[0;32m      3\u001b[0m         latitude, longitude \u001b[38;5;241m=\u001b[39m geocode(row[\u001b[38;5;124m'\u001b[39m\u001b[38;5;124mcity\u001b[39m\u001b[38;5;124m'\u001b[39m])\n",
      "File \u001b[1;32mG:\\programmings\\installeds\\anaconda3\\lib\\site-packages\\pandas\\core\\frame.py:1411\u001b[0m, in \u001b[0;36mDataFrame.iterrows\u001b[1;34m(self)\u001b[0m\n\u001b[0;32m   1409\u001b[0m klass \u001b[38;5;241m=\u001b[39m \u001b[38;5;28mself\u001b[39m\u001b[38;5;241m.\u001b[39m_constructor_sliced\n\u001b[0;32m   1410\u001b[0m \u001b[38;5;28;01mfor\u001b[39;00m k, v \u001b[38;5;129;01min\u001b[39;00m \u001b[38;5;28mzip\u001b[39m(\u001b[38;5;28mself\u001b[39m\u001b[38;5;241m.\u001b[39mindex, \u001b[38;5;28mself\u001b[39m\u001b[38;5;241m.\u001b[39mvalues):\n\u001b[1;32m-> 1411\u001b[0m     s \u001b[38;5;241m=\u001b[39m \u001b[43mklass\u001b[49m\u001b[43m(\u001b[49m\u001b[43mv\u001b[49m\u001b[43m,\u001b[49m\u001b[43m \u001b[49m\u001b[43mindex\u001b[49m\u001b[38;5;241;43m=\u001b[39;49m\u001b[43mcolumns\u001b[49m\u001b[43m,\u001b[49m\u001b[43m \u001b[49m\u001b[43mname\u001b[49m\u001b[38;5;241;43m=\u001b[39;49m\u001b[43mk\u001b[49m\u001b[43m)\u001b[49m\u001b[38;5;241m.\u001b[39m__finalize__(\u001b[38;5;28mself\u001b[39m)\n\u001b[0;32m   1412\u001b[0m     \u001b[38;5;28;01myield\u001b[39;00m k, s\n",
      "File \u001b[1;32mG:\\programmings\\installeds\\anaconda3\\lib\\site-packages\\pandas\\core\\series.py:470\u001b[0m, in \u001b[0;36mSeries.__init__\u001b[1;34m(self, data, index, dtype, name, copy, fastpath)\u001b[0m\n\u001b[0;32m    468\u001b[0m         data \u001b[38;5;241m=\u001b[39m data\u001b[38;5;241m.\u001b[39mcopy()\n\u001b[0;32m    469\u001b[0m \u001b[38;5;28;01melse\u001b[39;00m:\n\u001b[1;32m--> 470\u001b[0m     data \u001b[38;5;241m=\u001b[39m \u001b[43msanitize_array\u001b[49m\u001b[43m(\u001b[49m\u001b[43mdata\u001b[49m\u001b[43m,\u001b[49m\u001b[43m \u001b[49m\u001b[43mindex\u001b[49m\u001b[43m,\u001b[49m\u001b[43m \u001b[49m\u001b[43mdtype\u001b[49m\u001b[43m,\u001b[49m\u001b[43m \u001b[49m\u001b[43mcopy\u001b[49m\u001b[43m)\u001b[49m\n\u001b[0;32m    472\u001b[0m     manager \u001b[38;5;241m=\u001b[39m get_option(\u001b[38;5;124m\"\u001b[39m\u001b[38;5;124mmode.data_manager\u001b[39m\u001b[38;5;124m\"\u001b[39m)\n\u001b[0;32m    473\u001b[0m     \u001b[38;5;28;01mif\u001b[39;00m manager \u001b[38;5;241m==\u001b[39m \u001b[38;5;124m\"\u001b[39m\u001b[38;5;124mblock\u001b[39m\u001b[38;5;124m\"\u001b[39m:\n",
      "File \u001b[1;32mG:\\programmings\\installeds\\anaconda3\\lib\\site-packages\\pandas\\core\\construction.py:534\u001b[0m, in \u001b[0;36msanitize_array\u001b[1;34m(data, index, dtype, copy, raise_cast_failure, allow_2d)\u001b[0m\n\u001b[0;32m    531\u001b[0m     dtype \u001b[38;5;241m=\u001b[39m dtype\u001b[38;5;241m.\u001b[39mnumpy_dtype\n\u001b[0;32m    533\u001b[0m \u001b[38;5;66;03m# extract ndarray or ExtensionArray, ensure we have no PandasArray\u001b[39;00m\n\u001b[1;32m--> 534\u001b[0m data \u001b[38;5;241m=\u001b[39m \u001b[43mextract_array\u001b[49m\u001b[43m(\u001b[49m\u001b[43mdata\u001b[49m\u001b[43m,\u001b[49m\u001b[43m \u001b[49m\u001b[43mextract_numpy\u001b[49m\u001b[38;5;241;43m=\u001b[39;49m\u001b[38;5;28;43;01mTrue\u001b[39;49;00m\u001b[43m,\u001b[49m\u001b[43m \u001b[49m\u001b[43mextract_range\u001b[49m\u001b[38;5;241;43m=\u001b[39;49m\u001b[38;5;28;43;01mTrue\u001b[39;49;00m\u001b[43m)\u001b[49m\n\u001b[0;32m    536\u001b[0m \u001b[38;5;28;01mif\u001b[39;00m \u001b[38;5;28misinstance\u001b[39m(data, np\u001b[38;5;241m.\u001b[39mndarray) \u001b[38;5;129;01mand\u001b[39;00m data\u001b[38;5;241m.\u001b[39mndim \u001b[38;5;241m==\u001b[39m \u001b[38;5;241m0\u001b[39m:\n\u001b[0;32m    537\u001b[0m     \u001b[38;5;28;01mif\u001b[39;00m dtype \u001b[38;5;129;01mis\u001b[39;00m \u001b[38;5;28;01mNone\u001b[39;00m:\n",
      "File \u001b[1;32mG:\\programmings\\installeds\\anaconda3\\lib\\site-packages\\pandas\\core\\construction.py:444\u001b[0m, in \u001b[0;36mextract_array\u001b[1;34m(obj, extract_numpy, extract_range)\u001b[0m\n\u001b[0;32m    399\u001b[0m \u001b[38;5;28;01mdef\u001b[39;00m \u001b[38;5;21mextract_array\u001b[39m(\n\u001b[0;32m    400\u001b[0m     obj: T, extract_numpy: \u001b[38;5;28mbool\u001b[39m \u001b[38;5;241m=\u001b[39m \u001b[38;5;28;01mFalse\u001b[39;00m, extract_range: \u001b[38;5;28mbool\u001b[39m \u001b[38;5;241m=\u001b[39m \u001b[38;5;28;01mFalse\u001b[39;00m\n\u001b[0;32m    401\u001b[0m ) \u001b[38;5;241m-\u001b[39m\u001b[38;5;241m>\u001b[39m T \u001b[38;5;241m|\u001b[39m ArrayLike:\n\u001b[0;32m    402\u001b[0m     \u001b[38;5;124;03m\"\"\"\u001b[39;00m\n\u001b[0;32m    403\u001b[0m \u001b[38;5;124;03m    Extract the ndarray or ExtensionArray from a Series or Index.\u001b[39;00m\n\u001b[0;32m    404\u001b[0m \n\u001b[1;32m   (...)\u001b[0m\n\u001b[0;32m    442\u001b[0m \u001b[38;5;124;03m    array([1, 2, 3])\u001b[39;00m\n\u001b[0;32m    443\u001b[0m \u001b[38;5;124;03m    \"\"\"\u001b[39;00m\n\u001b[1;32m--> 444\u001b[0m     \u001b[38;5;28;01mif\u001b[39;00m \u001b[38;5;28;43misinstance\u001b[39;49m\u001b[43m(\u001b[49m\u001b[43mobj\u001b[49m\u001b[43m,\u001b[49m\u001b[43m \u001b[49m\u001b[43m(\u001b[49m\u001b[43mABCIndex\u001b[49m\u001b[43m,\u001b[49m\u001b[43m \u001b[49m\u001b[43mABCSeries\u001b[49m\u001b[43m)\u001b[49m\u001b[43m)\u001b[49m:\n\u001b[0;32m    445\u001b[0m         \u001b[38;5;28;01mif\u001b[39;00m \u001b[38;5;28misinstance\u001b[39m(obj, ABCRangeIndex):\n\u001b[0;32m    446\u001b[0m             \u001b[38;5;28;01mif\u001b[39;00m extract_range:\n",
      "File \u001b[1;32mG:\\programmings\\installeds\\anaconda3\\lib\\site-packages\\pandas\\core\\dtypes\\generic.py:47\u001b[0m, in \u001b[0;36mcreate_pandas_abc_type.<locals>._instancecheck\u001b[1;34m(cls, inst)\u001b[0m\n\u001b[0;32m     45\u001b[0m \u001b[38;5;129m@classmethod\u001b[39m  \u001b[38;5;66;03m# type: ignore[misc]\u001b[39;00m\n\u001b[0;32m     46\u001b[0m \u001b[38;5;28;01mdef\u001b[39;00m \u001b[38;5;21m_instancecheck\u001b[39m(\u001b[38;5;28mcls\u001b[39m, inst) \u001b[38;5;241m-\u001b[39m\u001b[38;5;241m>\u001b[39m \u001b[38;5;28mbool\u001b[39m:\n\u001b[1;32m---> 47\u001b[0m     \u001b[38;5;28;01mreturn\u001b[39;00m \u001b[43m_check\u001b[49m\u001b[43m(\u001b[49m\u001b[43minst\u001b[49m\u001b[43m)\u001b[49m \u001b[38;5;129;01mand\u001b[39;00m \u001b[38;5;129;01mnot\u001b[39;00m \u001b[38;5;28misinstance\u001b[39m(inst, \u001b[38;5;28mtype\u001b[39m)\n",
      "File \u001b[1;32mG:\\programmings\\installeds\\anaconda3\\lib\\site-packages\\pandas\\core\\dtypes\\generic.py:40\u001b[0m, in \u001b[0;36mcreate_pandas_abc_type.<locals>._check\u001b[1;34m(inst)\u001b[0m\n\u001b[0;32m     39\u001b[0m \u001b[38;5;28;01mdef\u001b[39;00m \u001b[38;5;21mcreate_pandas_abc_type\u001b[39m(name, attr, comp):\n\u001b[1;32m---> 40\u001b[0m     \u001b[38;5;28;01mdef\u001b[39;00m \u001b[38;5;21m_check\u001b[39m(inst):\n\u001b[0;32m     41\u001b[0m         \u001b[38;5;28;01mreturn\u001b[39;00m \u001b[38;5;28mgetattr\u001b[39m(inst, attr, \u001b[38;5;124m\"\u001b[39m\u001b[38;5;124m_typ\u001b[39m\u001b[38;5;124m\"\u001b[39m) \u001b[38;5;129;01min\u001b[39;00m comp\n\u001b[0;32m     43\u001b[0m     \u001b[38;5;66;03m# https://github.com/python/mypy/issues/1006\u001b[39;00m\n\u001b[0;32m     44\u001b[0m     \u001b[38;5;66;03m# error: 'classmethod' used with a non-method\u001b[39;00m\n",
      "\u001b[1;31mKeyboardInterrupt\u001b[0m: "
     ]
    }
   ],
   "source": [
    "for index, row in event_df.iterrows():\n",
    "    if pd.isnull(row['latitude']) or pd.isnull(row['longitude']):\n",
    "        latitude, longitude = geocode(row['city'])\n",
    "        event_df.at[index, 'latitude'] = latitude\n",
    "        event_df.at[index, 'longitude'] = longitude"
   ]
  },
  {
   "cell_type": "code",
   "execution_count": null,
   "metadata": {},
   "outputs": [],
   "source": []
  },
  {
   "cell_type": "markdown",
   "metadata": {
    "id": "xk59HCB_wVtZ"
   },
   "source": [
    "---\n",
    "<a name = Section7></a>\n",
    "# **7. Data Post-Profiling**\n",
    "---"
   ]
  },
  {
   "cell_type": "code",
   "execution_count": null,
   "metadata": {
    "id": "JA-TLMgNwX4q"
   },
   "outputs": [],
   "source": []
  },
  {
   "cell_type": "markdown",
   "metadata": {
    "id": "4bA3PMh3wYtP"
   },
   "source": [
    "---\n",
    "<a name = Section8></a>\n",
    "# **8. Exploratory Data Analysis**\n",
    "---"
   ]
  },
  {
   "cell_type": "code",
   "execution_count": null,
   "metadata": {
    "id": "ib0RGHnhwc8b"
   },
   "outputs": [],
   "source": []
  },
  {
   "cell_type": "markdown",
   "metadata": {
    "id": "Jx2D5ybDwidU"
   },
   "source": [
    "---\n",
    "<a name = Section9></a>\n",
    "# **9. Summarization**\n",
    "---"
   ]
  },
  {
   "cell_type": "markdown",
   "metadata": {
    "id": "Ebj7eBnzwkH2"
   },
   "source": [
    "<a name = Section91></a>\n",
    "### **9.1 Conclusion**"
   ]
  },
  {
   "cell_type": "markdown",
   "metadata": {
    "id": "_iW_KM6cwoYb"
   },
   "source": [
    "<a name = Section92></a>\n",
    "### **9.2 Actionable Insights**"
   ]
  },
  {
   "cell_type": "code",
   "execution_count": null,
   "metadata": {
    "id": "fpgz9k7fwrO8"
   },
   "outputs": [],
   "source": []
  }
 ],
 "metadata": {
  "colab": {
   "provenance": []
  },
  "kernelspec": {
   "display_name": "Python 3 (ipykernel)",
   "language": "python",
   "name": "python3"
  },
  "language_info": {
   "codemirror_mode": {
    "name": "ipython",
    "version": 3
   },
   "file_extension": ".py",
   "mimetype": "text/x-python",
   "name": "python",
   "nbconvert_exporter": "python",
   "pygments_lexer": "ipython3",
   "version": "3.10.9"
  },
  "widgets": {
   "application/vnd.jupyter.widget-state+json": {
    "123056ae5bc24118a4f35bfbeb1a63f4": {
     "model_module": "@jupyter-widgets/controls",
     "model_module_version": "1.5.0",
     "model_name": "DescriptionStyleModel",
     "state": {
      "_model_module": "@jupyter-widgets/controls",
      "_model_module_version": "1.5.0",
      "_model_name": "DescriptionStyleModel",
      "_view_count": null,
      "_view_module": "@jupyter-widgets/base",
      "_view_module_version": "1.2.0",
      "_view_name": "StyleView",
      "description_width": ""
     }
    },
    "15d4f1771c8c474f86f678b40a741df2": {
     "model_module": "@jupyter-widgets/base",
     "model_module_version": "1.2.0",
     "model_name": "LayoutModel",
     "state": {
      "_model_module": "@jupyter-widgets/base",
      "_model_module_version": "1.2.0",
      "_model_name": "LayoutModel",
      "_view_count": null,
      "_view_module": "@jupyter-widgets/base",
      "_view_module_version": "1.2.0",
      "_view_name": "LayoutView",
      "align_content": null,
      "align_items": null,
      "align_self": null,
      "border": null,
      "bottom": null,
      "display": null,
      "flex": null,
      "flex_flow": null,
      "grid_area": null,
      "grid_auto_columns": null,
      "grid_auto_flow": null,
      "grid_auto_rows": null,
      "grid_column": null,
      "grid_gap": null,
      "grid_row": null,
      "grid_template_areas": null,
      "grid_template_columns": null,
      "grid_template_rows": null,
      "height": null,
      "justify_content": null,
      "justify_items": null,
      "left": null,
      "margin": null,
      "max_height": null,
      "max_width": null,
      "min_height": null,
      "min_width": null,
      "object_fit": null,
      "object_position": null,
      "order": null,
      "overflow": null,
      "overflow_x": null,
      "overflow_y": null,
      "padding": null,
      "right": null,
      "top": null,
      "visibility": null,
      "width": null
     }
    },
    "2b9bc67cd5d747e4be513582ff876f16": {
     "model_module": "@jupyter-widgets/base",
     "model_module_version": "1.2.0",
     "model_name": "LayoutModel",
     "state": {
      "_model_module": "@jupyter-widgets/base",
      "_model_module_version": "1.2.0",
      "_model_name": "LayoutModel",
      "_view_count": null,
      "_view_module": "@jupyter-widgets/base",
      "_view_module_version": "1.2.0",
      "_view_name": "LayoutView",
      "align_content": null,
      "align_items": null,
      "align_self": null,
      "border": null,
      "bottom": null,
      "display": null,
      "flex": null,
      "flex_flow": null,
      "grid_area": null,
      "grid_auto_columns": null,
      "grid_auto_flow": null,
      "grid_auto_rows": null,
      "grid_column": null,
      "grid_gap": null,
      "grid_row": null,
      "grid_template_areas": null,
      "grid_template_columns": null,
      "grid_template_rows": null,
      "height": null,
      "justify_content": null,
      "justify_items": null,
      "left": null,
      "margin": null,
      "max_height": null,
      "max_width": null,
      "min_height": null,
      "min_width": null,
      "object_fit": null,
      "object_position": null,
      "order": null,
      "overflow": null,
      "overflow_x": null,
      "overflow_y": null,
      "padding": null,
      "right": null,
      "top": null,
      "visibility": null,
      "width": null
     }
    },
    "33e7e034d22041efb3950e52f4b70b8b": {
     "model_module": "@jupyter-widgets/controls",
     "model_module_version": "1.5.0",
     "model_name": "FloatProgressModel",
     "state": {
      "_dom_classes": [],
      "_model_module": "@jupyter-widgets/controls",
      "_model_module_version": "1.5.0",
      "_model_name": "FloatProgressModel",
      "_view_count": null,
      "_view_module": "@jupyter-widgets/controls",
      "_view_module_version": "1.5.0",
      "_view_name": "ProgressView",
      "bar_style": "success",
      "description": "",
      "description_tooltip": null,
      "layout": "IPY_MODEL_57e8295780d44ff19180e1d76ce26ec6",
      "max": 5,
      "min": 0,
      "orientation": "horizontal",
      "style": "IPY_MODEL_fd4ad0a86ef34ad8ab08973f295e77d6",
      "value": 5
     }
    },
    "42dc650bd8a34ddd9126e885d14e3cec": {
     "model_module": "@jupyter-widgets/controls",
     "model_module_version": "1.5.0",
     "model_name": "DescriptionStyleModel",
     "state": {
      "_model_module": "@jupyter-widgets/controls",
      "_model_module_version": "1.5.0",
      "_model_name": "DescriptionStyleModel",
      "_view_count": null,
      "_view_module": "@jupyter-widgets/base",
      "_view_module_version": "1.2.0",
      "_view_name": "StyleView",
      "description_width": ""
     }
    },
    "475556edb86f4c808eb5c52479ec9560": {
     "model_module": "@jupyter-widgets/controls",
     "model_module_version": "1.5.0",
     "model_name": "ProgressStyleModel",
     "state": {
      "_model_module": "@jupyter-widgets/controls",
      "_model_module_version": "1.5.0",
      "_model_name": "ProgressStyleModel",
      "_view_count": null,
      "_view_module": "@jupyter-widgets/base",
      "_view_module_version": "1.2.0",
      "_view_name": "StyleView",
      "bar_color": null,
      "description_width": ""
     }
    },
    "4bd59864ad3444b6941ceaf559166b08": {
     "model_module": "@jupyter-widgets/controls",
     "model_module_version": "1.5.0",
     "model_name": "HTMLModel",
     "state": {
      "_dom_classes": [],
      "_model_module": "@jupyter-widgets/controls",
      "_model_module_version": "1.5.0",
      "_model_name": "HTMLModel",
      "_view_count": null,
      "_view_module": "@jupyter-widgets/controls",
      "_view_module_version": "1.5.0",
      "_view_name": "HTMLView",
      "description": "",
      "description_tooltip": null,
      "layout": "IPY_MODEL_f7d6235eae2343c08e0638ec78975d1f",
      "placeholder": "​",
      "style": "IPY_MODEL_123056ae5bc24118a4f35bfbeb1a63f4",
      "value": "Generate report structure:   0%"
     }
    },
    "57e8295780d44ff19180e1d76ce26ec6": {
     "model_module": "@jupyter-widgets/base",
     "model_module_version": "1.2.0",
     "model_name": "LayoutModel",
     "state": {
      "_model_module": "@jupyter-widgets/base",
      "_model_module_version": "1.2.0",
      "_model_name": "LayoutModel",
      "_view_count": null,
      "_view_module": "@jupyter-widgets/base",
      "_view_module_version": "1.2.0",
      "_view_name": "LayoutView",
      "align_content": null,
      "align_items": null,
      "align_self": null,
      "border": null,
      "bottom": null,
      "display": null,
      "flex": null,
      "flex_flow": null,
      "grid_area": null,
      "grid_auto_columns": null,
      "grid_auto_flow": null,
      "grid_auto_rows": null,
      "grid_column": null,
      "grid_gap": null,
      "grid_row": null,
      "grid_template_areas": null,
      "grid_template_columns": null,
      "grid_template_rows": null,
      "height": null,
      "justify_content": null,
      "justify_items": null,
      "left": null,
      "margin": null,
      "max_height": null,
      "max_width": null,
      "min_height": null,
      "min_width": null,
      "object_fit": null,
      "object_position": null,
      "order": null,
      "overflow": null,
      "overflow_x": null,
      "overflow_y": null,
      "padding": null,
      "right": null,
      "top": null,
      "visibility": null,
      "width": null
     }
    },
    "8344350ce50842eb8cd1b46e73ba2c7f": {
     "model_module": "@jupyter-widgets/base",
     "model_module_version": "1.2.0",
     "model_name": "LayoutModel",
     "state": {
      "_model_module": "@jupyter-widgets/base",
      "_model_module_version": "1.2.0",
      "_model_name": "LayoutModel",
      "_view_count": null,
      "_view_module": "@jupyter-widgets/base",
      "_view_module_version": "1.2.0",
      "_view_name": "LayoutView",
      "align_content": null,
      "align_items": null,
      "align_self": null,
      "border": null,
      "bottom": null,
      "display": null,
      "flex": null,
      "flex_flow": null,
      "grid_area": null,
      "grid_auto_columns": null,
      "grid_auto_flow": null,
      "grid_auto_rows": null,
      "grid_column": null,
      "grid_gap": null,
      "grid_row": null,
      "grid_template_areas": null,
      "grid_template_columns": null,
      "grid_template_rows": null,
      "height": null,
      "justify_content": null,
      "justify_items": null,
      "left": null,
      "margin": null,
      "max_height": null,
      "max_width": null,
      "min_height": null,
      "min_width": null,
      "object_fit": null,
      "object_position": null,
      "order": null,
      "overflow": null,
      "overflow_x": null,
      "overflow_y": null,
      "padding": null,
      "right": null,
      "top": null,
      "visibility": null,
      "width": null
     }
    },
    "8407cf2b5f4d48aa8f075c10414828ee": {
     "model_module": "@jupyter-widgets/base",
     "model_module_version": "1.2.0",
     "model_name": "LayoutModel",
     "state": {
      "_model_module": "@jupyter-widgets/base",
      "_model_module_version": "1.2.0",
      "_model_name": "LayoutModel",
      "_view_count": null,
      "_view_module": "@jupyter-widgets/base",
      "_view_module_version": "1.2.0",
      "_view_name": "LayoutView",
      "align_content": null,
      "align_items": null,
      "align_self": null,
      "border": null,
      "bottom": null,
      "display": null,
      "flex": null,
      "flex_flow": null,
      "grid_area": null,
      "grid_auto_columns": null,
      "grid_auto_flow": null,
      "grid_auto_rows": null,
      "grid_column": null,
      "grid_gap": null,
      "grid_row": null,
      "grid_template_areas": null,
      "grid_template_columns": null,
      "grid_template_rows": null,
      "height": null,
      "justify_content": null,
      "justify_items": null,
      "left": null,
      "margin": null,
      "max_height": null,
      "max_width": null,
      "min_height": null,
      "min_width": null,
      "object_fit": null,
      "object_position": null,
      "order": null,
      "overflow": null,
      "overflow_x": null,
      "overflow_y": null,
      "padding": null,
      "right": null,
      "top": null,
      "visibility": null,
      "width": null
     }
    },
    "8b0e8fdb1a7b4de8b388f1c6706917f8": {
     "model_module": "@jupyter-widgets/base",
     "model_module_version": "1.2.0",
     "model_name": "LayoutModel",
     "state": {
      "_model_module": "@jupyter-widgets/base",
      "_model_module_version": "1.2.0",
      "_model_name": "LayoutModel",
      "_view_count": null,
      "_view_module": "@jupyter-widgets/base",
      "_view_module_version": "1.2.0",
      "_view_name": "LayoutView",
      "align_content": null,
      "align_items": null,
      "align_self": null,
      "border": null,
      "bottom": null,
      "display": null,
      "flex": null,
      "flex_flow": null,
      "grid_area": null,
      "grid_auto_columns": null,
      "grid_auto_flow": null,
      "grid_auto_rows": null,
      "grid_column": null,
      "grid_gap": null,
      "grid_row": null,
      "grid_template_areas": null,
      "grid_template_columns": null,
      "grid_template_rows": null,
      "height": null,
      "justify_content": null,
      "justify_items": null,
      "left": null,
      "margin": null,
      "max_height": null,
      "max_width": null,
      "min_height": null,
      "min_width": null,
      "object_fit": null,
      "object_position": null,
      "order": null,
      "overflow": null,
      "overflow_x": null,
      "overflow_y": null,
      "padding": null,
      "right": null,
      "top": null,
      "visibility": null,
      "width": null
     }
    },
    "8bad40c205904582bbb3a5d272b5f049": {
     "model_module": "@jupyter-widgets/controls",
     "model_module_version": "1.5.0",
     "model_name": "DescriptionStyleModel",
     "state": {
      "_model_module": "@jupyter-widgets/controls",
      "_model_module_version": "1.5.0",
      "_model_name": "DescriptionStyleModel",
      "_view_count": null,
      "_view_module": "@jupyter-widgets/base",
      "_view_module_version": "1.2.0",
      "_view_name": "StyleView",
      "description_width": ""
     }
    },
    "9d1a7a15b2344861bff58d78b98e17a2": {
     "model_module": "@jupyter-widgets/controls",
     "model_module_version": "1.5.0",
     "model_name": "DescriptionStyleModel",
     "state": {
      "_model_module": "@jupyter-widgets/controls",
      "_model_module_version": "1.5.0",
      "_model_name": "DescriptionStyleModel",
      "_view_count": null,
      "_view_module": "@jupyter-widgets/base",
      "_view_module_version": "1.2.0",
      "_view_name": "StyleView",
      "description_width": ""
     }
    },
    "ab14ec9060a541b791af932449c8f294": {
     "model_module": "@jupyter-widgets/controls",
     "model_module_version": "1.5.0",
     "model_name": "HTMLModel",
     "state": {
      "_dom_classes": [],
      "_model_module": "@jupyter-widgets/controls",
      "_model_module_version": "1.5.0",
      "_model_name": "HTMLModel",
      "_view_count": null,
      "_view_module": "@jupyter-widgets/controls",
      "_view_module_version": "1.5.0",
      "_view_name": "HTMLView",
      "description": "",
      "description_tooltip": null,
      "layout": "IPY_MODEL_8407cf2b5f4d48aa8f075c10414828ee",
      "placeholder": "​",
      "style": "IPY_MODEL_42dc650bd8a34ddd9126e885d14e3cec",
      "value": " 0/1 [00:04&lt;?, ?it/s]"
     }
    },
    "b2a60130e04141d69f198df2a9441cc5": {
     "model_module": "@jupyter-widgets/controls",
     "model_module_version": "1.5.0",
     "model_name": "HTMLModel",
     "state": {
      "_dom_classes": [],
      "_model_module": "@jupyter-widgets/controls",
      "_model_module_version": "1.5.0",
      "_model_name": "HTMLModel",
      "_view_count": null,
      "_view_module": "@jupyter-widgets/controls",
      "_view_module_version": "1.5.0",
      "_view_name": "HTMLView",
      "description": "",
      "description_tooltip": null,
      "layout": "IPY_MODEL_8344350ce50842eb8cd1b46e73ba2c7f",
      "placeholder": "​",
      "style": "IPY_MODEL_9d1a7a15b2344861bff58d78b98e17a2",
      "value": " 33/33 [01:26&lt;00:00,  3.81s/it, Completed]"
     }
    },
    "cd02c56320194bb593c5dbdf2ef29b9f": {
     "model_module": "@jupyter-widgets/controls",
     "model_module_version": "1.5.0",
     "model_name": "HBoxModel",
     "state": {
      "_dom_classes": [],
      "_model_module": "@jupyter-widgets/controls",
      "_model_module_version": "1.5.0",
      "_model_name": "HBoxModel",
      "_view_count": null,
      "_view_module": "@jupyter-widgets/controls",
      "_view_module_version": "1.5.0",
      "_view_name": "HBoxView",
      "box_style": "",
      "children": [
       "IPY_MODEL_4bd59864ad3444b6941ceaf559166b08",
       "IPY_MODEL_f7e5e3ba24724d2382ed7a7be88e69db",
       "IPY_MODEL_ab14ec9060a541b791af932449c8f294"
      ],
      "layout": "IPY_MODEL_fb173db4d6a047318e2bd8738c1bc482"
     }
    },
    "e4817fdf47f048e19b8c083076aa2ee6": {
     "model_module": "@jupyter-widgets/controls",
     "model_module_version": "1.5.0",
     "model_name": "HBoxModel",
     "state": {
      "_dom_classes": [],
      "_model_module": "@jupyter-widgets/controls",
      "_model_module_version": "1.5.0",
      "_model_name": "HBoxModel",
      "_view_count": null,
      "_view_module": "@jupyter-widgets/controls",
      "_view_module_version": "1.5.0",
      "_view_name": "HBoxView",
      "box_style": "",
      "children": [
       "IPY_MODEL_ec88b3b4aa014f65bd7d9ee8a7f47720",
       "IPY_MODEL_33e7e034d22041efb3950e52f4b70b8b",
       "IPY_MODEL_b2a60130e04141d69f198df2a9441cc5"
      ],
      "layout": "IPY_MODEL_2b9bc67cd5d747e4be513582ff876f16"
     }
    },
    "ec88b3b4aa014f65bd7d9ee8a7f47720": {
     "model_module": "@jupyter-widgets/controls",
     "model_module_version": "1.5.0",
     "model_name": "HTMLModel",
     "state": {
      "_dom_classes": [],
      "_model_module": "@jupyter-widgets/controls",
      "_model_module_version": "1.5.0",
      "_model_name": "HTMLModel",
      "_view_count": null,
      "_view_module": "@jupyter-widgets/controls",
      "_view_module_version": "1.5.0",
      "_view_name": "HTMLView",
      "description": "",
      "description_tooltip": null,
      "layout": "IPY_MODEL_8b0e8fdb1a7b4de8b388f1c6706917f8",
      "placeholder": "​",
      "style": "IPY_MODEL_8bad40c205904582bbb3a5d272b5f049",
      "value": "Summarize dataset: 100%"
     }
    },
    "f7d6235eae2343c08e0638ec78975d1f": {
     "model_module": "@jupyter-widgets/base",
     "model_module_version": "1.2.0",
     "model_name": "LayoutModel",
     "state": {
      "_model_module": "@jupyter-widgets/base",
      "_model_module_version": "1.2.0",
      "_model_name": "LayoutModel",
      "_view_count": null,
      "_view_module": "@jupyter-widgets/base",
      "_view_module_version": "1.2.0",
      "_view_name": "LayoutView",
      "align_content": null,
      "align_items": null,
      "align_self": null,
      "border": null,
      "bottom": null,
      "display": null,
      "flex": null,
      "flex_flow": null,
      "grid_area": null,
      "grid_auto_columns": null,
      "grid_auto_flow": null,
      "grid_auto_rows": null,
      "grid_column": null,
      "grid_gap": null,
      "grid_row": null,
      "grid_template_areas": null,
      "grid_template_columns": null,
      "grid_template_rows": null,
      "height": null,
      "justify_content": null,
      "justify_items": null,
      "left": null,
      "margin": null,
      "max_height": null,
      "max_width": null,
      "min_height": null,
      "min_width": null,
      "object_fit": null,
      "object_position": null,
      "order": null,
      "overflow": null,
      "overflow_x": null,
      "overflow_y": null,
      "padding": null,
      "right": null,
      "top": null,
      "visibility": null,
      "width": null
     }
    },
    "f7e5e3ba24724d2382ed7a7be88e69db": {
     "model_module": "@jupyter-widgets/controls",
     "model_module_version": "1.5.0",
     "model_name": "FloatProgressModel",
     "state": {
      "_dom_classes": [],
      "_model_module": "@jupyter-widgets/controls",
      "_model_module_version": "1.5.0",
      "_model_name": "FloatProgressModel",
      "_view_count": null,
      "_view_module": "@jupyter-widgets/controls",
      "_view_module_version": "1.5.0",
      "_view_name": "ProgressView",
      "bar_style": "danger",
      "description": "",
      "description_tooltip": null,
      "layout": "IPY_MODEL_15d4f1771c8c474f86f678b40a741df2",
      "max": 1,
      "min": 0,
      "orientation": "horizontal",
      "style": "IPY_MODEL_475556edb86f4c808eb5c52479ec9560",
      "value": 0
     }
    },
    "fb173db4d6a047318e2bd8738c1bc482": {
     "model_module": "@jupyter-widgets/base",
     "model_module_version": "1.2.0",
     "model_name": "LayoutModel",
     "state": {
      "_model_module": "@jupyter-widgets/base",
      "_model_module_version": "1.2.0",
      "_model_name": "LayoutModel",
      "_view_count": null,
      "_view_module": "@jupyter-widgets/base",
      "_view_module_version": "1.2.0",
      "_view_name": "LayoutView",
      "align_content": null,
      "align_items": null,
      "align_self": null,
      "border": null,
      "bottom": null,
      "display": null,
      "flex": null,
      "flex_flow": null,
      "grid_area": null,
      "grid_auto_columns": null,
      "grid_auto_flow": null,
      "grid_auto_rows": null,
      "grid_column": null,
      "grid_gap": null,
      "grid_row": null,
      "grid_template_areas": null,
      "grid_template_columns": null,
      "grid_template_rows": null,
      "height": null,
      "justify_content": null,
      "justify_items": null,
      "left": null,
      "margin": null,
      "max_height": null,
      "max_width": null,
      "min_height": null,
      "min_width": null,
      "object_fit": null,
      "object_position": null,
      "order": null,
      "overflow": null,
      "overflow_x": null,
      "overflow_y": null,
      "padding": null,
      "right": null,
      "top": null,
      "visibility": null,
      "width": null
     }
    },
    "fd4ad0a86ef34ad8ab08973f295e77d6": {
     "model_module": "@jupyter-widgets/controls",
     "model_module_version": "1.5.0",
     "model_name": "ProgressStyleModel",
     "state": {
      "_model_module": "@jupyter-widgets/controls",
      "_model_module_version": "1.5.0",
      "_model_name": "ProgressStyleModel",
      "_view_count": null,
      "_view_module": "@jupyter-widgets/base",
      "_view_module_version": "1.2.0",
      "_view_name": "StyleView",
      "bar_color": null,
      "description_width": ""
     }
    }
   }
  }
 },
 "nbformat": 4,
 "nbformat_minor": 1
}
